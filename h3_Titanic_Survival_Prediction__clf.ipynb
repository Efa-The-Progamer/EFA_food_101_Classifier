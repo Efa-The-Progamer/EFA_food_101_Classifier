{
  "nbformat": 4,
  "nbformat_minor": 0,
  "metadata": {
    "colab": {
      "name": "h3_Titanic_Survival_Prediction__clf.ipynb",
      "provenance": [],
      "collapsed_sections": [
        "qfKB9dZT3o5S",
        "lw7IHXhA9KP8",
        "I-TzGyS5W2Hx",
        "6nOHa50j2HCk",
        "9K4MuATrHnAj"
      ],
      "mount_file_id": "1KsFjBKBvd2uKjk3Tap_gssCxF6yQevyJ",
      "authorship_tag": "ABX9TyOEPsi691ShlL7Hl0FhslTl",
      "include_colab_link": true
    },
    "kernelspec": {
      "name": "python3",
      "display_name": "Python 3"
    },
    "language_info": {
      "name": "python"
    }
  },
  "cells": [
    {
      "cell_type": "markdown",
      "metadata": {
        "id": "view-in-github",
        "colab_type": "text"
      },
      "source": [
        "<a href=\"https://colab.research.google.com/github/mralamdari/EFA_food_101_Classifier/blob/main/h3_Titanic_Survival_Prediction__clf.ipynb\" target=\"_parent\"><img src=\"https://colab.research.google.com/assets/colab-badge.svg\" alt=\"Open In Colab\"/></a>"
      ]
    },
    {
      "cell_type": "markdown",
      "metadata": {
        "id": "vwc8n5XYPO8_"
      },
      "source": [
        "#Kaggle Titanic Survival Prediction Project \n",
        "[Source](https://www.kaggle.com/c/titanic/data)"
      ]
    },
    {
      "cell_type": "code",
      "metadata": {
        "id": "fHg4EUHYWtjg",
        "colab": {
          "base_uri": "https://localhost:8080/"
        },
        "outputId": "591b80ea-83cb-4d0b-bce1-0e342852785a"
      },
      "source": [
        "import os\n",
        "import xgboost\n",
        "import numpy as np\n",
        "import pandas as pd\n",
        "import seaborn as sns\n",
        "import matplotlib.pyplot as plt\n",
        "from sklearn import svm\n",
        "from sklearn import tree\n",
        "from sklearn import metrics\n",
        "from sklearn import impute\n",
        "from sklearn import decomposition\n",
        "from sklearn import ensemble\n",
        "from sklearn import neighbors\n",
        "from sklearn import naive_bayes\n",
        "from sklearn import linear_model\n",
        "from sklearn import preprocessing\n",
        "from sklearn import model_selection\n",
        "from sklearn import feature_selection\n",
        "!wget https://raw.githubusercontent.com/rwrdvsqaesdfh32s/datapreprocessing/main/esi_datapreproccessing.py\n",
        "import esi_datapreproccessing as dpp"
      ],
      "execution_count": 1,
      "outputs": [
        {
          "output_type": "stream",
          "name": "stdout",
          "text": [
            "--2022-01-23 06:38:33--  https://raw.githubusercontent.com/rwrdvsqaesdfh32s/datapreprocessing/main/esi_datapreproccessing.py\n",
            "Resolving raw.githubusercontent.com (raw.githubusercontent.com)... 185.199.108.133, 185.199.109.133, 185.199.110.133, ...\n",
            "Connecting to raw.githubusercontent.com (raw.githubusercontent.com)|185.199.108.133|:443... connected.\n",
            "HTTP request sent, awaiting response... 200 OK\n",
            "Length: 17471 (17K) [text/plain]\n",
            "Saving to: ‘esi_datapreproccessing.py’\n",
            "\n",
            "esi_datapreproccess 100%[===================>]  17.06K  --.-KB/s    in 0.001s  \n",
            "\n",
            "2022-01-23 06:38:33 (14.0 MB/s) - ‘esi_datapreproccessing.py’ saved [17471/17471]\n",
            "\n"
          ]
        },
        {
          "output_type": "stream",
          "name": "stderr",
          "text": [
            "/usr/local/lib/python3.7/dist-packages/statsmodels/tools/_testing.py:19: FutureWarning: pandas.util.testing is deprecated. Use the functions in the public API at pandas.testing instead.\n",
            "  import pandas.util.testing as tm\n"
          ]
        }
      ]
    },
    {
      "cell_type": "markdown",
      "metadata": {
        "id": "-ntft8K6YCle"
      },
      "source": [
        "#Step 1: Read Data and Understand It "
      ]
    },
    {
      "cell_type": "code",
      "metadata": {
        "id": "9GC03wALO6Mo",
        "colab": {
          "base_uri": "https://localhost:8080/"
        },
        "outputId": "0943e37a-823d-4622-daaa-bf8e555f0c7a"
      },
      "source": [
        "os.environ[\"KAGGLE_CONFIG_DIR\"] = '/content/drive/MyDrive/Colab Notebooks/'\n",
        "!kaggle competitions download -c titanic"
      ],
      "execution_count": 2,
      "outputs": [
        {
          "output_type": "stream",
          "name": "stdout",
          "text": [
            "Warning: Looks like you're using an outdated API Version, please consider updating (server 1.5.12 / client 1.5.4)\n",
            "Downloading test.csv to /content\n",
            "  0% 0.00/28.0k [00:00<?, ?B/s]\n",
            "100% 28.0k/28.0k [00:00<00:00, 23.7MB/s]\n",
            "Downloading train.csv to /content\n",
            "  0% 0.00/59.8k [00:00<?, ?B/s]\n",
            "100% 59.8k/59.8k [00:00<00:00, 61.6MB/s]\n",
            "Downloading gender_submission.csv to /content\n",
            "  0% 0.00/3.18k [00:00<?, ?B/s]\n",
            "100% 3.18k/3.18k [00:00<00:00, 3.19MB/s]\n"
          ]
        }
      ]
    },
    {
      "cell_type": "code",
      "metadata": {
        "id": "tvHDv_y-XY6E"
      },
      "source": [
        "train_data = pd.read_csv(\"train.csv\")\n",
        "test_data = pd.read_csv('test.csv')\n",
        "sub_data = pd.read_csv('gender_submission.csv')"
      ],
      "execution_count": 13,
      "outputs": []
    },
    {
      "cell_type": "code",
      "metadata": {
        "colab": {
          "base_uri": "https://localhost:8080/",
          "height": 502
        },
        "id": "HVgpYqz9YAB0",
        "outputId": "bbe56cef-4ab7-4a76-ef09-9d5adeb85d69"
      },
      "source": [
        "train_data"
      ],
      "execution_count": 14,
      "outputs": [
        {
          "output_type": "execute_result",
          "data": {
            "text/html": [
              "\n",
              "  <div id=\"df-5377a087-6a2b-47c7-95af-2c1e498b3de4\">\n",
              "    <div class=\"colab-df-container\">\n",
              "      <div>\n",
              "<style scoped>\n",
              "    .dataframe tbody tr th:only-of-type {\n",
              "        vertical-align: middle;\n",
              "    }\n",
              "\n",
              "    .dataframe tbody tr th {\n",
              "        vertical-align: top;\n",
              "    }\n",
              "\n",
              "    .dataframe thead th {\n",
              "        text-align: right;\n",
              "    }\n",
              "</style>\n",
              "<table border=\"1\" class=\"dataframe\">\n",
              "  <thead>\n",
              "    <tr style=\"text-align: right;\">\n",
              "      <th></th>\n",
              "      <th>PassengerId</th>\n",
              "      <th>Survived</th>\n",
              "      <th>Pclass</th>\n",
              "      <th>Name</th>\n",
              "      <th>Sex</th>\n",
              "      <th>Age</th>\n",
              "      <th>SibSp</th>\n",
              "      <th>Parch</th>\n",
              "      <th>Ticket</th>\n",
              "      <th>Fare</th>\n",
              "      <th>Cabin</th>\n",
              "      <th>Embarked</th>\n",
              "    </tr>\n",
              "  </thead>\n",
              "  <tbody>\n",
              "    <tr>\n",
              "      <th>0</th>\n",
              "      <td>1</td>\n",
              "      <td>0</td>\n",
              "      <td>3</td>\n",
              "      <td>Braund, Mr. Owen Harris</td>\n",
              "      <td>male</td>\n",
              "      <td>22.0</td>\n",
              "      <td>1</td>\n",
              "      <td>0</td>\n",
              "      <td>A/5 21171</td>\n",
              "      <td>7.2500</td>\n",
              "      <td>NaN</td>\n",
              "      <td>S</td>\n",
              "    </tr>\n",
              "    <tr>\n",
              "      <th>1</th>\n",
              "      <td>2</td>\n",
              "      <td>1</td>\n",
              "      <td>1</td>\n",
              "      <td>Cumings, Mrs. John Bradley (Florence Briggs Th...</td>\n",
              "      <td>female</td>\n",
              "      <td>38.0</td>\n",
              "      <td>1</td>\n",
              "      <td>0</td>\n",
              "      <td>PC 17599</td>\n",
              "      <td>71.2833</td>\n",
              "      <td>C85</td>\n",
              "      <td>C</td>\n",
              "    </tr>\n",
              "    <tr>\n",
              "      <th>2</th>\n",
              "      <td>3</td>\n",
              "      <td>1</td>\n",
              "      <td>3</td>\n",
              "      <td>Heikkinen, Miss. Laina</td>\n",
              "      <td>female</td>\n",
              "      <td>26.0</td>\n",
              "      <td>0</td>\n",
              "      <td>0</td>\n",
              "      <td>STON/O2. 3101282</td>\n",
              "      <td>7.9250</td>\n",
              "      <td>NaN</td>\n",
              "      <td>S</td>\n",
              "    </tr>\n",
              "    <tr>\n",
              "      <th>3</th>\n",
              "      <td>4</td>\n",
              "      <td>1</td>\n",
              "      <td>1</td>\n",
              "      <td>Futrelle, Mrs. Jacques Heath (Lily May Peel)</td>\n",
              "      <td>female</td>\n",
              "      <td>35.0</td>\n",
              "      <td>1</td>\n",
              "      <td>0</td>\n",
              "      <td>113803</td>\n",
              "      <td>53.1000</td>\n",
              "      <td>C123</td>\n",
              "      <td>S</td>\n",
              "    </tr>\n",
              "    <tr>\n",
              "      <th>4</th>\n",
              "      <td>5</td>\n",
              "      <td>0</td>\n",
              "      <td>3</td>\n",
              "      <td>Allen, Mr. William Henry</td>\n",
              "      <td>male</td>\n",
              "      <td>35.0</td>\n",
              "      <td>0</td>\n",
              "      <td>0</td>\n",
              "      <td>373450</td>\n",
              "      <td>8.0500</td>\n",
              "      <td>NaN</td>\n",
              "      <td>S</td>\n",
              "    </tr>\n",
              "    <tr>\n",
              "      <th>...</th>\n",
              "      <td>...</td>\n",
              "      <td>...</td>\n",
              "      <td>...</td>\n",
              "      <td>...</td>\n",
              "      <td>...</td>\n",
              "      <td>...</td>\n",
              "      <td>...</td>\n",
              "      <td>...</td>\n",
              "      <td>...</td>\n",
              "      <td>...</td>\n",
              "      <td>...</td>\n",
              "      <td>...</td>\n",
              "    </tr>\n",
              "    <tr>\n",
              "      <th>886</th>\n",
              "      <td>887</td>\n",
              "      <td>0</td>\n",
              "      <td>2</td>\n",
              "      <td>Montvila, Rev. Juozas</td>\n",
              "      <td>male</td>\n",
              "      <td>27.0</td>\n",
              "      <td>0</td>\n",
              "      <td>0</td>\n",
              "      <td>211536</td>\n",
              "      <td>13.0000</td>\n",
              "      <td>NaN</td>\n",
              "      <td>S</td>\n",
              "    </tr>\n",
              "    <tr>\n",
              "      <th>887</th>\n",
              "      <td>888</td>\n",
              "      <td>1</td>\n",
              "      <td>1</td>\n",
              "      <td>Graham, Miss. Margaret Edith</td>\n",
              "      <td>female</td>\n",
              "      <td>19.0</td>\n",
              "      <td>0</td>\n",
              "      <td>0</td>\n",
              "      <td>112053</td>\n",
              "      <td>30.0000</td>\n",
              "      <td>B42</td>\n",
              "      <td>S</td>\n",
              "    </tr>\n",
              "    <tr>\n",
              "      <th>888</th>\n",
              "      <td>889</td>\n",
              "      <td>0</td>\n",
              "      <td>3</td>\n",
              "      <td>Johnston, Miss. Catherine Helen \"Carrie\"</td>\n",
              "      <td>female</td>\n",
              "      <td>NaN</td>\n",
              "      <td>1</td>\n",
              "      <td>2</td>\n",
              "      <td>W./C. 6607</td>\n",
              "      <td>23.4500</td>\n",
              "      <td>NaN</td>\n",
              "      <td>S</td>\n",
              "    </tr>\n",
              "    <tr>\n",
              "      <th>889</th>\n",
              "      <td>890</td>\n",
              "      <td>1</td>\n",
              "      <td>1</td>\n",
              "      <td>Behr, Mr. Karl Howell</td>\n",
              "      <td>male</td>\n",
              "      <td>26.0</td>\n",
              "      <td>0</td>\n",
              "      <td>0</td>\n",
              "      <td>111369</td>\n",
              "      <td>30.0000</td>\n",
              "      <td>C148</td>\n",
              "      <td>C</td>\n",
              "    </tr>\n",
              "    <tr>\n",
              "      <th>890</th>\n",
              "      <td>891</td>\n",
              "      <td>0</td>\n",
              "      <td>3</td>\n",
              "      <td>Dooley, Mr. Patrick</td>\n",
              "      <td>male</td>\n",
              "      <td>32.0</td>\n",
              "      <td>0</td>\n",
              "      <td>0</td>\n",
              "      <td>370376</td>\n",
              "      <td>7.7500</td>\n",
              "      <td>NaN</td>\n",
              "      <td>Q</td>\n",
              "    </tr>\n",
              "  </tbody>\n",
              "</table>\n",
              "<p>891 rows × 12 columns</p>\n",
              "</div>\n",
              "      <button class=\"colab-df-convert\" onclick=\"convertToInteractive('df-5377a087-6a2b-47c7-95af-2c1e498b3de4')\"\n",
              "              title=\"Convert this dataframe to an interactive table.\"\n",
              "              style=\"display:none;\">\n",
              "        \n",
              "  <svg xmlns=\"http://www.w3.org/2000/svg\" height=\"24px\"viewBox=\"0 0 24 24\"\n",
              "       width=\"24px\">\n",
              "    <path d=\"M0 0h24v24H0V0z\" fill=\"none\"/>\n",
              "    <path d=\"M18.56 5.44l.94 2.06.94-2.06 2.06-.94-2.06-.94-.94-2.06-.94 2.06-2.06.94zm-11 1L8.5 8.5l.94-2.06 2.06-.94-2.06-.94L8.5 2.5l-.94 2.06-2.06.94zm10 10l.94 2.06.94-2.06 2.06-.94-2.06-.94-.94-2.06-.94 2.06-2.06.94z\"/><path d=\"M17.41 7.96l-1.37-1.37c-.4-.4-.92-.59-1.43-.59-.52 0-1.04.2-1.43.59L10.3 9.45l-7.72 7.72c-.78.78-.78 2.05 0 2.83L4 21.41c.39.39.9.59 1.41.59.51 0 1.02-.2 1.41-.59l7.78-7.78 2.81-2.81c.8-.78.8-2.07 0-2.86zM5.41 20L4 18.59l7.72-7.72 1.47 1.35L5.41 20z\"/>\n",
              "  </svg>\n",
              "      </button>\n",
              "      \n",
              "  <style>\n",
              "    .colab-df-container {\n",
              "      display:flex;\n",
              "      flex-wrap:wrap;\n",
              "      gap: 12px;\n",
              "    }\n",
              "\n",
              "    .colab-df-convert {\n",
              "      background-color: #E8F0FE;\n",
              "      border: none;\n",
              "      border-radius: 50%;\n",
              "      cursor: pointer;\n",
              "      display: none;\n",
              "      fill: #1967D2;\n",
              "      height: 32px;\n",
              "      padding: 0 0 0 0;\n",
              "      width: 32px;\n",
              "    }\n",
              "\n",
              "    .colab-df-convert:hover {\n",
              "      background-color: #E2EBFA;\n",
              "      box-shadow: 0px 1px 2px rgba(60, 64, 67, 0.3), 0px 1px 3px 1px rgba(60, 64, 67, 0.15);\n",
              "      fill: #174EA6;\n",
              "    }\n",
              "\n",
              "    [theme=dark] .colab-df-convert {\n",
              "      background-color: #3B4455;\n",
              "      fill: #D2E3FC;\n",
              "    }\n",
              "\n",
              "    [theme=dark] .colab-df-convert:hover {\n",
              "      background-color: #434B5C;\n",
              "      box-shadow: 0px 1px 3px 1px rgba(0, 0, 0, 0.15);\n",
              "      filter: drop-shadow(0px 1px 2px rgba(0, 0, 0, 0.3));\n",
              "      fill: #FFFFFF;\n",
              "    }\n",
              "  </style>\n",
              "\n",
              "      <script>\n",
              "        const buttonEl =\n",
              "          document.querySelector('#df-5377a087-6a2b-47c7-95af-2c1e498b3de4 button.colab-df-convert');\n",
              "        buttonEl.style.display =\n",
              "          google.colab.kernel.accessAllowed ? 'block' : 'none';\n",
              "\n",
              "        async function convertToInteractive(key) {\n",
              "          const element = document.querySelector('#df-5377a087-6a2b-47c7-95af-2c1e498b3de4');\n",
              "          const dataTable =\n",
              "            await google.colab.kernel.invokeFunction('convertToInteractive',\n",
              "                                                     [key], {});\n",
              "          if (!dataTable) return;\n",
              "\n",
              "          const docLinkHtml = 'Like what you see? Visit the ' +\n",
              "            '<a target=\"_blank\" href=https://colab.research.google.com/notebooks/data_table.ipynb>data table notebook</a>'\n",
              "            + ' to learn more about interactive tables.';\n",
              "          element.innerHTML = '';\n",
              "          dataTable['output_type'] = 'display_data';\n",
              "          await google.colab.output.renderOutput(dataTable, element);\n",
              "          const docLink = document.createElement('div');\n",
              "          docLink.innerHTML = docLinkHtml;\n",
              "          element.appendChild(docLink);\n",
              "        }\n",
              "      </script>\n",
              "    </div>\n",
              "  </div>\n",
              "  "
            ],
            "text/plain": [
              "     PassengerId  Survived  Pclass  ...     Fare Cabin  Embarked\n",
              "0              1         0       3  ...   7.2500   NaN         S\n",
              "1              2         1       1  ...  71.2833   C85         C\n",
              "2              3         1       3  ...   7.9250   NaN         S\n",
              "3              4         1       1  ...  53.1000  C123         S\n",
              "4              5         0       3  ...   8.0500   NaN         S\n",
              "..           ...       ...     ...  ...      ...   ...       ...\n",
              "886          887         0       2  ...  13.0000   NaN         S\n",
              "887          888         1       1  ...  30.0000   B42         S\n",
              "888          889         0       3  ...  23.4500   NaN         S\n",
              "889          890         1       1  ...  30.0000  C148         C\n",
              "890          891         0       3  ...   7.7500   NaN         Q\n",
              "\n",
              "[891 rows x 12 columns]"
            ]
          },
          "metadata": {},
          "execution_count": 14
        }
      ]
    },
    {
      "cell_type": "code",
      "metadata": {
        "id": "EZQpH8paZaZm",
        "colab": {
          "base_uri": "https://localhost:8080/",
          "height": 140
        },
        "outputId": "216b4079-a5da-41c7-9d06-a5985f61dfa3"
      },
      "source": [
        "\"\"\"\n",
        "PassengerId: (int) : index + 1,                        Not important at all.\n",
        "Survived: (int): (Target)  , Very Important.\n",
        "Pclass: (int):(CATEGORICAL), Ticket Class , Important\n",
        "1st = Upper\n",
        "2nd = Middle\n",
        "3rd = Lower,\n",
        "\n",
        "Name: (str):                                           Not important at all.\n",
        "Sex: (str): (CATEGORICAL),  important.\n",
        "Age: (float): important\n",
        "SibSp: (int): (CATEGORICAL), number(\"#\") of siblings / spouses aboard the Titanic\t, important.\n",
        "\n",
        "Sibling = brother, sister, stepbrother, stepsister\n",
        "Spouse = husband, wife (mistresses and fiancés were ignored)\n",
        "\n",
        "Parch: (int): (CATEGORICAL), number('#') of parents / children aboard the Titanic\t, important.\n",
        "Parent = mother, father\n",
        "Child = daughter, son, stepdaughter, stepson\n",
        "Some children travelled only with a nanny, therefore parch=0 for them.\n",
        "\n",
        "Ticket: (str):                                       maybe Not important at all.\n",
        "Fare: (float): Important\n",
        "Cabin: (str): (CATEGORICAL), Cabin number\t maybe important.\n",
        "Embarked: (str): (CATEGORICAL), Port of Embarkation (بندر سوار شدن) important.\n",
        "\"\"\""
      ],
      "execution_count": 15,
      "outputs": [
        {
          "output_type": "execute_result",
          "data": {
            "application/vnd.google.colaboratory.intrinsic+json": {
              "type": "string"
            },
            "text/plain": [
              "'\\nPassengerId: (int) : index + 1,                        Not important at all.\\nSurvived: (int): (Target)  , Very Important.\\nPclass: (int):(CATEGORICAL), Ticket Class , Important\\n1st = Upper\\n2nd = Middle\\n3rd = Lower,\\n\\nName: (str):                                           Not important at all.\\nSex: (str): (CATEGORICAL),  important.\\nAge: (float): important\\nSibSp: (int): (CATEGORICAL), number(\"#\") of siblings / spouses aboard the Titanic\\t, important.\\n\\nSibling = brother, sister, stepbrother, stepsister\\nSpouse = husband, wife (mistresses and fiancés were ignored)\\n\\nParch: (int): (CATEGORICAL), number(\\'#\\') of parents / children aboard the Titanic\\t, important.\\nParent = mother, father\\nChild = daughter, son, stepdaughter, stepson\\nSome children travelled only with a nanny, therefore parch=0 for them.\\n\\nTicket: (str):                                       maybe Not important at all.\\nFare: (float): Important\\nCabin: (str): (CATEGORICAL), Cabin number\\t maybe important.\\nEmbarked: (str): (CATEGORICAL), Port of Embarkation (بندر سوار شدن) important.\\n'"
            ]
          },
          "metadata": {},
          "execution_count": 15
        }
      ]
    },
    {
      "cell_type": "markdown",
      "metadata": {
        "id": "M0J5febubX7D"
      },
      "source": [
        "#Step 2: Data Cleaning and Preprations"
      ]
    },
    {
      "cell_type": "code",
      "metadata": {
        "colab": {
          "base_uri": "https://localhost:8080/"
        },
        "id": "ujzwCsT8YBvs",
        "outputId": "1a16f28d-ed1a-4514-d3b2-8d1b0f7c0853"
      },
      "source": [
        "test_data.columns\n",
        "sub_data.columns\n",
        "train_data.columns, len(train_data)"
      ],
      "execution_count": 16,
      "outputs": [
        {
          "output_type": "execute_result",
          "data": {
            "text/plain": [
              "(Index(['PassengerId', 'Survived', 'Pclass', 'Name', 'Sex', 'Age', 'SibSp',\n",
              "        'Parch', 'Ticket', 'Fare', 'Cabin', 'Embarked'],\n",
              "       dtype='object'), 891)"
            ]
          },
          "metadata": {},
          "execution_count": 16
        }
      ]
    },
    {
      "cell_type": "code",
      "metadata": {
        "colab": {
          "base_uri": "https://localhost:8080/",
          "height": 50
        },
        "id": "bqahHd59Yhh9",
        "outputId": "8b94f420-d64b-47bc-916c-186e48d90f99"
      },
      "source": [
        "train_data[train_data.duplicated()]"
      ],
      "execution_count": 17,
      "outputs": [
        {
          "output_type": "execute_result",
          "data": {
            "text/html": [
              "\n",
              "  <div id=\"df-df768950-3d2d-499e-ae78-3b7d8c91a960\">\n",
              "    <div class=\"colab-df-container\">\n",
              "      <div>\n",
              "<style scoped>\n",
              "    .dataframe tbody tr th:only-of-type {\n",
              "        vertical-align: middle;\n",
              "    }\n",
              "\n",
              "    .dataframe tbody tr th {\n",
              "        vertical-align: top;\n",
              "    }\n",
              "\n",
              "    .dataframe thead th {\n",
              "        text-align: right;\n",
              "    }\n",
              "</style>\n",
              "<table border=\"1\" class=\"dataframe\">\n",
              "  <thead>\n",
              "    <tr style=\"text-align: right;\">\n",
              "      <th></th>\n",
              "      <th>PassengerId</th>\n",
              "      <th>Survived</th>\n",
              "      <th>Pclass</th>\n",
              "      <th>Name</th>\n",
              "      <th>Sex</th>\n",
              "      <th>Age</th>\n",
              "      <th>SibSp</th>\n",
              "      <th>Parch</th>\n",
              "      <th>Ticket</th>\n",
              "      <th>Fare</th>\n",
              "      <th>Cabin</th>\n",
              "      <th>Embarked</th>\n",
              "    </tr>\n",
              "  </thead>\n",
              "  <tbody>\n",
              "  </tbody>\n",
              "</table>\n",
              "</div>\n",
              "      <button class=\"colab-df-convert\" onclick=\"convertToInteractive('df-df768950-3d2d-499e-ae78-3b7d8c91a960')\"\n",
              "              title=\"Convert this dataframe to an interactive table.\"\n",
              "              style=\"display:none;\">\n",
              "        \n",
              "  <svg xmlns=\"http://www.w3.org/2000/svg\" height=\"24px\"viewBox=\"0 0 24 24\"\n",
              "       width=\"24px\">\n",
              "    <path d=\"M0 0h24v24H0V0z\" fill=\"none\"/>\n",
              "    <path d=\"M18.56 5.44l.94 2.06.94-2.06 2.06-.94-2.06-.94-.94-2.06-.94 2.06-2.06.94zm-11 1L8.5 8.5l.94-2.06 2.06-.94-2.06-.94L8.5 2.5l-.94 2.06-2.06.94zm10 10l.94 2.06.94-2.06 2.06-.94-2.06-.94-.94-2.06-.94 2.06-2.06.94z\"/><path d=\"M17.41 7.96l-1.37-1.37c-.4-.4-.92-.59-1.43-.59-.52 0-1.04.2-1.43.59L10.3 9.45l-7.72 7.72c-.78.78-.78 2.05 0 2.83L4 21.41c.39.39.9.59 1.41.59.51 0 1.02-.2 1.41-.59l7.78-7.78 2.81-2.81c.8-.78.8-2.07 0-2.86zM5.41 20L4 18.59l7.72-7.72 1.47 1.35L5.41 20z\"/>\n",
              "  </svg>\n",
              "      </button>\n",
              "      \n",
              "  <style>\n",
              "    .colab-df-container {\n",
              "      display:flex;\n",
              "      flex-wrap:wrap;\n",
              "      gap: 12px;\n",
              "    }\n",
              "\n",
              "    .colab-df-convert {\n",
              "      background-color: #E8F0FE;\n",
              "      border: none;\n",
              "      border-radius: 50%;\n",
              "      cursor: pointer;\n",
              "      display: none;\n",
              "      fill: #1967D2;\n",
              "      height: 32px;\n",
              "      padding: 0 0 0 0;\n",
              "      width: 32px;\n",
              "    }\n",
              "\n",
              "    .colab-df-convert:hover {\n",
              "      background-color: #E2EBFA;\n",
              "      box-shadow: 0px 1px 2px rgba(60, 64, 67, 0.3), 0px 1px 3px 1px rgba(60, 64, 67, 0.15);\n",
              "      fill: #174EA6;\n",
              "    }\n",
              "\n",
              "    [theme=dark] .colab-df-convert {\n",
              "      background-color: #3B4455;\n",
              "      fill: #D2E3FC;\n",
              "    }\n",
              "\n",
              "    [theme=dark] .colab-df-convert:hover {\n",
              "      background-color: #434B5C;\n",
              "      box-shadow: 0px 1px 3px 1px rgba(0, 0, 0, 0.15);\n",
              "      filter: drop-shadow(0px 1px 2px rgba(0, 0, 0, 0.3));\n",
              "      fill: #FFFFFF;\n",
              "    }\n",
              "  </style>\n",
              "\n",
              "      <script>\n",
              "        const buttonEl =\n",
              "          document.querySelector('#df-df768950-3d2d-499e-ae78-3b7d8c91a960 button.colab-df-convert');\n",
              "        buttonEl.style.display =\n",
              "          google.colab.kernel.accessAllowed ? 'block' : 'none';\n",
              "\n",
              "        async function convertToInteractive(key) {\n",
              "          const element = document.querySelector('#df-df768950-3d2d-499e-ae78-3b7d8c91a960');\n",
              "          const dataTable =\n",
              "            await google.colab.kernel.invokeFunction('convertToInteractive',\n",
              "                                                     [key], {});\n",
              "          if (!dataTable) return;\n",
              "\n",
              "          const docLinkHtml = 'Like what you see? Visit the ' +\n",
              "            '<a target=\"_blank\" href=https://colab.research.google.com/notebooks/data_table.ipynb>data table notebook</a>'\n",
              "            + ' to learn more about interactive tables.';\n",
              "          element.innerHTML = '';\n",
              "          dataTable['output_type'] = 'display_data';\n",
              "          await google.colab.output.renderOutput(dataTable, element);\n",
              "          const docLink = document.createElement('div');\n",
              "          docLink.innerHTML = docLinkHtml;\n",
              "          element.appendChild(docLink);\n",
              "        }\n",
              "      </script>\n",
              "    </div>\n",
              "  </div>\n",
              "  "
            ],
            "text/plain": [
              "Empty DataFrame\n",
              "Columns: [PassengerId, Survived, Pclass, Name, Sex, Age, SibSp, Parch, Ticket, Fare, Cabin, Embarked]\n",
              "Index: []"
            ]
          },
          "metadata": {},
          "execution_count": 17
        }
      ]
    },
    {
      "cell_type": "markdown",
      "source": [
        "##Missing Data Count & Percentage"
      ],
      "metadata": {
        "id": "6k1mbF0SrN3V"
      }
    },
    {
      "cell_type": "code",
      "source": [
        "null_df = pd.DataFrame([np.int64(np.sum(test_data.isnull())), round(np.sum(test_data.isnull()) * 100 / len(test_data), 2)]).T\n",
        "null_df.index = test_data.columns\n",
        "null_df.columns = ['count', 'percent']\n",
        "null_df"
      ],
      "metadata": {
        "colab": {
          "base_uri": "https://localhost:8080/",
          "height": 394
        },
        "id": "AfVq8_TQrXa-",
        "outputId": "f5ff67a5-687e-4be4-841c-ee1fca79fd99"
      },
      "execution_count": 18,
      "outputs": [
        {
          "output_type": "execute_result",
          "data": {
            "text/html": [
              "\n",
              "  <div id=\"df-b7b97463-128e-4161-9751-3121ef27b2ea\">\n",
              "    <div class=\"colab-df-container\">\n",
              "      <div>\n",
              "<style scoped>\n",
              "    .dataframe tbody tr th:only-of-type {\n",
              "        vertical-align: middle;\n",
              "    }\n",
              "\n",
              "    .dataframe tbody tr th {\n",
              "        vertical-align: top;\n",
              "    }\n",
              "\n",
              "    .dataframe thead th {\n",
              "        text-align: right;\n",
              "    }\n",
              "</style>\n",
              "<table border=\"1\" class=\"dataframe\">\n",
              "  <thead>\n",
              "    <tr style=\"text-align: right;\">\n",
              "      <th></th>\n",
              "      <th>count</th>\n",
              "      <th>percent</th>\n",
              "    </tr>\n",
              "  </thead>\n",
              "  <tbody>\n",
              "    <tr>\n",
              "      <th>PassengerId</th>\n",
              "      <td>0.0</td>\n",
              "      <td>0.00</td>\n",
              "    </tr>\n",
              "    <tr>\n",
              "      <th>Pclass</th>\n",
              "      <td>0.0</td>\n",
              "      <td>0.00</td>\n",
              "    </tr>\n",
              "    <tr>\n",
              "      <th>Name</th>\n",
              "      <td>0.0</td>\n",
              "      <td>0.00</td>\n",
              "    </tr>\n",
              "    <tr>\n",
              "      <th>Sex</th>\n",
              "      <td>0.0</td>\n",
              "      <td>0.00</td>\n",
              "    </tr>\n",
              "    <tr>\n",
              "      <th>Age</th>\n",
              "      <td>86.0</td>\n",
              "      <td>20.57</td>\n",
              "    </tr>\n",
              "    <tr>\n",
              "      <th>SibSp</th>\n",
              "      <td>0.0</td>\n",
              "      <td>0.00</td>\n",
              "    </tr>\n",
              "    <tr>\n",
              "      <th>Parch</th>\n",
              "      <td>0.0</td>\n",
              "      <td>0.00</td>\n",
              "    </tr>\n",
              "    <tr>\n",
              "      <th>Ticket</th>\n",
              "      <td>0.0</td>\n",
              "      <td>0.00</td>\n",
              "    </tr>\n",
              "    <tr>\n",
              "      <th>Fare</th>\n",
              "      <td>1.0</td>\n",
              "      <td>0.24</td>\n",
              "    </tr>\n",
              "    <tr>\n",
              "      <th>Cabin</th>\n",
              "      <td>327.0</td>\n",
              "      <td>78.23</td>\n",
              "    </tr>\n",
              "    <tr>\n",
              "      <th>Embarked</th>\n",
              "      <td>0.0</td>\n",
              "      <td>0.00</td>\n",
              "    </tr>\n",
              "  </tbody>\n",
              "</table>\n",
              "</div>\n",
              "      <button class=\"colab-df-convert\" onclick=\"convertToInteractive('df-b7b97463-128e-4161-9751-3121ef27b2ea')\"\n",
              "              title=\"Convert this dataframe to an interactive table.\"\n",
              "              style=\"display:none;\">\n",
              "        \n",
              "  <svg xmlns=\"http://www.w3.org/2000/svg\" height=\"24px\"viewBox=\"0 0 24 24\"\n",
              "       width=\"24px\">\n",
              "    <path d=\"M0 0h24v24H0V0z\" fill=\"none\"/>\n",
              "    <path d=\"M18.56 5.44l.94 2.06.94-2.06 2.06-.94-2.06-.94-.94-2.06-.94 2.06-2.06.94zm-11 1L8.5 8.5l.94-2.06 2.06-.94-2.06-.94L8.5 2.5l-.94 2.06-2.06.94zm10 10l.94 2.06.94-2.06 2.06-.94-2.06-.94-.94-2.06-.94 2.06-2.06.94z\"/><path d=\"M17.41 7.96l-1.37-1.37c-.4-.4-.92-.59-1.43-.59-.52 0-1.04.2-1.43.59L10.3 9.45l-7.72 7.72c-.78.78-.78 2.05 0 2.83L4 21.41c.39.39.9.59 1.41.59.51 0 1.02-.2 1.41-.59l7.78-7.78 2.81-2.81c.8-.78.8-2.07 0-2.86zM5.41 20L4 18.59l7.72-7.72 1.47 1.35L5.41 20z\"/>\n",
              "  </svg>\n",
              "      </button>\n",
              "      \n",
              "  <style>\n",
              "    .colab-df-container {\n",
              "      display:flex;\n",
              "      flex-wrap:wrap;\n",
              "      gap: 12px;\n",
              "    }\n",
              "\n",
              "    .colab-df-convert {\n",
              "      background-color: #E8F0FE;\n",
              "      border: none;\n",
              "      border-radius: 50%;\n",
              "      cursor: pointer;\n",
              "      display: none;\n",
              "      fill: #1967D2;\n",
              "      height: 32px;\n",
              "      padding: 0 0 0 0;\n",
              "      width: 32px;\n",
              "    }\n",
              "\n",
              "    .colab-df-convert:hover {\n",
              "      background-color: #E2EBFA;\n",
              "      box-shadow: 0px 1px 2px rgba(60, 64, 67, 0.3), 0px 1px 3px 1px rgba(60, 64, 67, 0.15);\n",
              "      fill: #174EA6;\n",
              "    }\n",
              "\n",
              "    [theme=dark] .colab-df-convert {\n",
              "      background-color: #3B4455;\n",
              "      fill: #D2E3FC;\n",
              "    }\n",
              "\n",
              "    [theme=dark] .colab-df-convert:hover {\n",
              "      background-color: #434B5C;\n",
              "      box-shadow: 0px 1px 3px 1px rgba(0, 0, 0, 0.15);\n",
              "      filter: drop-shadow(0px 1px 2px rgba(0, 0, 0, 0.3));\n",
              "      fill: #FFFFFF;\n",
              "    }\n",
              "  </style>\n",
              "\n",
              "      <script>\n",
              "        const buttonEl =\n",
              "          document.querySelector('#df-b7b97463-128e-4161-9751-3121ef27b2ea button.colab-df-convert');\n",
              "        buttonEl.style.display =\n",
              "          google.colab.kernel.accessAllowed ? 'block' : 'none';\n",
              "\n",
              "        async function convertToInteractive(key) {\n",
              "          const element = document.querySelector('#df-b7b97463-128e-4161-9751-3121ef27b2ea');\n",
              "          const dataTable =\n",
              "            await google.colab.kernel.invokeFunction('convertToInteractive',\n",
              "                                                     [key], {});\n",
              "          if (!dataTable) return;\n",
              "\n",
              "          const docLinkHtml = 'Like what you see? Visit the ' +\n",
              "            '<a target=\"_blank\" href=https://colab.research.google.com/notebooks/data_table.ipynb>data table notebook</a>'\n",
              "            + ' to learn more about interactive tables.';\n",
              "          element.innerHTML = '';\n",
              "          dataTable['output_type'] = 'display_data';\n",
              "          await google.colab.output.renderOutput(dataTable, element);\n",
              "          const docLink = document.createElement('div');\n",
              "          docLink.innerHTML = docLinkHtml;\n",
              "          element.appendChild(docLink);\n",
              "        }\n",
              "      </script>\n",
              "    </div>\n",
              "  </div>\n",
              "  "
            ],
            "text/plain": [
              "             count  percent\n",
              "PassengerId    0.0     0.00\n",
              "Pclass         0.0     0.00\n",
              "Name           0.0     0.00\n",
              "Sex            0.0     0.00\n",
              "Age           86.0    20.57\n",
              "SibSp          0.0     0.00\n",
              "Parch          0.0     0.00\n",
              "Ticket         0.0     0.00\n",
              "Fare           1.0     0.24\n",
              "Cabin        327.0    78.23\n",
              "Embarked       0.0     0.00"
            ]
          },
          "metadata": {},
          "execution_count": 18
        }
      ]
    },
    {
      "cell_type": "code",
      "metadata": {
        "colab": {
          "base_uri": "https://localhost:8080/",
          "height": 426
        },
        "id": "Pw0eBm6Ek6up",
        "outputId": "88da04bd-d505-4d95-8910-16a5900fcba5"
      },
      "source": [
        "null_df = pd.DataFrame([np.int64(np.sum(train_data.isnull())), round(np.sum(train_data.isnull()) * 100 / len(train_data), 2)]).T\n",
        "null_df.index = train_data.columns\n",
        "null_df.columns = ['count', 'percent']\n",
        "null_df"
      ],
      "execution_count": 19,
      "outputs": [
        {
          "output_type": "execute_result",
          "data": {
            "text/html": [
              "\n",
              "  <div id=\"df-4f5d0483-31f0-48b1-93ae-3205a810f789\">\n",
              "    <div class=\"colab-df-container\">\n",
              "      <div>\n",
              "<style scoped>\n",
              "    .dataframe tbody tr th:only-of-type {\n",
              "        vertical-align: middle;\n",
              "    }\n",
              "\n",
              "    .dataframe tbody tr th {\n",
              "        vertical-align: top;\n",
              "    }\n",
              "\n",
              "    .dataframe thead th {\n",
              "        text-align: right;\n",
              "    }\n",
              "</style>\n",
              "<table border=\"1\" class=\"dataframe\">\n",
              "  <thead>\n",
              "    <tr style=\"text-align: right;\">\n",
              "      <th></th>\n",
              "      <th>count</th>\n",
              "      <th>percent</th>\n",
              "    </tr>\n",
              "  </thead>\n",
              "  <tbody>\n",
              "    <tr>\n",
              "      <th>PassengerId</th>\n",
              "      <td>0.0</td>\n",
              "      <td>0.00</td>\n",
              "    </tr>\n",
              "    <tr>\n",
              "      <th>Survived</th>\n",
              "      <td>0.0</td>\n",
              "      <td>0.00</td>\n",
              "    </tr>\n",
              "    <tr>\n",
              "      <th>Pclass</th>\n",
              "      <td>0.0</td>\n",
              "      <td>0.00</td>\n",
              "    </tr>\n",
              "    <tr>\n",
              "      <th>Name</th>\n",
              "      <td>0.0</td>\n",
              "      <td>0.00</td>\n",
              "    </tr>\n",
              "    <tr>\n",
              "      <th>Sex</th>\n",
              "      <td>0.0</td>\n",
              "      <td>0.00</td>\n",
              "    </tr>\n",
              "    <tr>\n",
              "      <th>Age</th>\n",
              "      <td>177.0</td>\n",
              "      <td>19.87</td>\n",
              "    </tr>\n",
              "    <tr>\n",
              "      <th>SibSp</th>\n",
              "      <td>0.0</td>\n",
              "      <td>0.00</td>\n",
              "    </tr>\n",
              "    <tr>\n",
              "      <th>Parch</th>\n",
              "      <td>0.0</td>\n",
              "      <td>0.00</td>\n",
              "    </tr>\n",
              "    <tr>\n",
              "      <th>Ticket</th>\n",
              "      <td>0.0</td>\n",
              "      <td>0.00</td>\n",
              "    </tr>\n",
              "    <tr>\n",
              "      <th>Fare</th>\n",
              "      <td>0.0</td>\n",
              "      <td>0.00</td>\n",
              "    </tr>\n",
              "    <tr>\n",
              "      <th>Cabin</th>\n",
              "      <td>687.0</td>\n",
              "      <td>77.10</td>\n",
              "    </tr>\n",
              "    <tr>\n",
              "      <th>Embarked</th>\n",
              "      <td>2.0</td>\n",
              "      <td>0.22</td>\n",
              "    </tr>\n",
              "  </tbody>\n",
              "</table>\n",
              "</div>\n",
              "      <button class=\"colab-df-convert\" onclick=\"convertToInteractive('df-4f5d0483-31f0-48b1-93ae-3205a810f789')\"\n",
              "              title=\"Convert this dataframe to an interactive table.\"\n",
              "              style=\"display:none;\">\n",
              "        \n",
              "  <svg xmlns=\"http://www.w3.org/2000/svg\" height=\"24px\"viewBox=\"0 0 24 24\"\n",
              "       width=\"24px\">\n",
              "    <path d=\"M0 0h24v24H0V0z\" fill=\"none\"/>\n",
              "    <path d=\"M18.56 5.44l.94 2.06.94-2.06 2.06-.94-2.06-.94-.94-2.06-.94 2.06-2.06.94zm-11 1L8.5 8.5l.94-2.06 2.06-.94-2.06-.94L8.5 2.5l-.94 2.06-2.06.94zm10 10l.94 2.06.94-2.06 2.06-.94-2.06-.94-.94-2.06-.94 2.06-2.06.94z\"/><path d=\"M17.41 7.96l-1.37-1.37c-.4-.4-.92-.59-1.43-.59-.52 0-1.04.2-1.43.59L10.3 9.45l-7.72 7.72c-.78.78-.78 2.05 0 2.83L4 21.41c.39.39.9.59 1.41.59.51 0 1.02-.2 1.41-.59l7.78-7.78 2.81-2.81c.8-.78.8-2.07 0-2.86zM5.41 20L4 18.59l7.72-7.72 1.47 1.35L5.41 20z\"/>\n",
              "  </svg>\n",
              "      </button>\n",
              "      \n",
              "  <style>\n",
              "    .colab-df-container {\n",
              "      display:flex;\n",
              "      flex-wrap:wrap;\n",
              "      gap: 12px;\n",
              "    }\n",
              "\n",
              "    .colab-df-convert {\n",
              "      background-color: #E8F0FE;\n",
              "      border: none;\n",
              "      border-radius: 50%;\n",
              "      cursor: pointer;\n",
              "      display: none;\n",
              "      fill: #1967D2;\n",
              "      height: 32px;\n",
              "      padding: 0 0 0 0;\n",
              "      width: 32px;\n",
              "    }\n",
              "\n",
              "    .colab-df-convert:hover {\n",
              "      background-color: #E2EBFA;\n",
              "      box-shadow: 0px 1px 2px rgba(60, 64, 67, 0.3), 0px 1px 3px 1px rgba(60, 64, 67, 0.15);\n",
              "      fill: #174EA6;\n",
              "    }\n",
              "\n",
              "    [theme=dark] .colab-df-convert {\n",
              "      background-color: #3B4455;\n",
              "      fill: #D2E3FC;\n",
              "    }\n",
              "\n",
              "    [theme=dark] .colab-df-convert:hover {\n",
              "      background-color: #434B5C;\n",
              "      box-shadow: 0px 1px 3px 1px rgba(0, 0, 0, 0.15);\n",
              "      filter: drop-shadow(0px 1px 2px rgba(0, 0, 0, 0.3));\n",
              "      fill: #FFFFFF;\n",
              "    }\n",
              "  </style>\n",
              "\n",
              "      <script>\n",
              "        const buttonEl =\n",
              "          document.querySelector('#df-4f5d0483-31f0-48b1-93ae-3205a810f789 button.colab-df-convert');\n",
              "        buttonEl.style.display =\n",
              "          google.colab.kernel.accessAllowed ? 'block' : 'none';\n",
              "\n",
              "        async function convertToInteractive(key) {\n",
              "          const element = document.querySelector('#df-4f5d0483-31f0-48b1-93ae-3205a810f789');\n",
              "          const dataTable =\n",
              "            await google.colab.kernel.invokeFunction('convertToInteractive',\n",
              "                                                     [key], {});\n",
              "          if (!dataTable) return;\n",
              "\n",
              "          const docLinkHtml = 'Like what you see? Visit the ' +\n",
              "            '<a target=\"_blank\" href=https://colab.research.google.com/notebooks/data_table.ipynb>data table notebook</a>'\n",
              "            + ' to learn more about interactive tables.';\n",
              "          element.innerHTML = '';\n",
              "          dataTable['output_type'] = 'display_data';\n",
              "          await google.colab.output.renderOutput(dataTable, element);\n",
              "          const docLink = document.createElement('div');\n",
              "          docLink.innerHTML = docLinkHtml;\n",
              "          element.appendChild(docLink);\n",
              "        }\n",
              "      </script>\n",
              "    </div>\n",
              "  </div>\n",
              "  "
            ],
            "text/plain": [
              "             count  percent\n",
              "PassengerId    0.0     0.00\n",
              "Survived       0.0     0.00\n",
              "Pclass         0.0     0.00\n",
              "Name           0.0     0.00\n",
              "Sex            0.0     0.00\n",
              "Age          177.0    19.87\n",
              "SibSp          0.0     0.00\n",
              "Parch          0.0     0.00\n",
              "Ticket         0.0     0.00\n",
              "Fare           0.0     0.00\n",
              "Cabin        687.0    77.10\n",
              "Embarked       2.0     0.22"
            ]
          },
          "metadata": {},
          "execution_count": 19
        }
      ]
    },
    {
      "cell_type": "code",
      "source": [
        "# because Embarked has only 2 missing values, I replace it with the most common one.\n",
        "train_data[\"Embarked\"].fillna('S', inplace=True)"
      ],
      "metadata": {
        "id": "CKuDD1d0sHeQ"
      },
      "execution_count": 20,
      "outputs": []
    },
    {
      "cell_type": "code",
      "source": [
        "# because Fare has only one missing value, I replaced it with the mean of the Fare data.\n",
        "test_data['Fare'].fillna(test_data.Fare.mean(), inplace=True)"
      ],
      "metadata": {
        "id": "1gxCYExfrlXM"
      },
      "execution_count": 11,
      "outputs": []
    },
    {
      "cell_type": "code",
      "metadata": {
        "id": "BWkKy07adxoO"
      },
      "source": [
        "# X.Age.describe()\n",
        "train_data['Age'].fillna(np.int64(train_data.Age.mean()), inplace=True)\n",
        "test_data['Age'].fillna(np.int64(test_data.Age.mean()), inplace=True)"
      ],
      "execution_count": 9,
      "outputs": []
    },
    {
      "cell_type": "code",
      "metadata": {
        "id": "hxXftDSjbXmN"
      },
      "source": [
        "# Cabin's 77% of the data is null, so it is useless\n",
        "train_data.drop(columns=[\"PassengerId\", \"Name\", \"Ticket\", 'Cabin'], inplace=True)\n",
        "test_data.drop(columns=[\"Name\", \"Ticket\", 'Cabin'], inplace=True)"
      ],
      "execution_count": 10,
      "outputs": []
    },
    {
      "cell_type": "code",
      "metadata": {
        "id": "zsNArmUEfAW6"
      },
      "source": [
        "X = train_data.drop(columns=['Survived'])\n",
        "Y = train_data.Survived"
      ],
      "execution_count": null,
      "outputs": []
    },
    {
      "cell_type": "code",
      "metadata": {
        "colab": {
          "base_uri": "https://localhost:8080/"
        },
        "id": "t5ztmsmWUh1b",
        "outputId": "488e567e-6300-45ff-8166-d51036e88c96"
      },
      "source": [
        "one_x = X.copy() \n",
        "le_x = X.copy()\n",
        "def oneHotEncoder_function(df, c):\n",
        "  one = preprocessing.OneHotEncoder(sparse=False, dtype=np.int64)\n",
        "  temp = one.fit_transform(pd.DataFrame(df[c]))\n",
        "  df = pd.concat([df, pd.DataFrame(temp, columns=one.categories_[0])], axis=1)\n",
        "  df.drop(columns=[c], inplace=True)\n",
        "  return df\n",
        "\n",
        "def labelEncoder_function(df):\n",
        "  \"\"\"\n",
        "  Sex ['female'=0,    'male'=1]\n",
        "  Embarked ['C'=0,  'Q'=1,    'S'=2]\n",
        "  \"\"\"\n",
        "  le = preprocessing.LabelEncoder()\n",
        "  for c in ['Sex', \"Embarked\"]:\n",
        "    df[c] = le.fit_transform(df[c])\n",
        "    print(c, le.classes_)\n",
        "  return df  \n",
        "\n",
        "\n",
        "one_x = oneHotEncoder_function(one_x, 'Sex')\n",
        "one_x = oneHotEncoder_function(one_x, 'Embarked')\n",
        "le_x = labelEncoder_function(le_x)"
      ],
      "execution_count": null,
      "outputs": [
        {
          "output_type": "stream",
          "name": "stdout",
          "text": [
            "Sex ['female' 'male']\n",
            "Embarked ['C' 'Q' 'S']\n"
          ]
        }
      ]
    },
    {
      "cell_type": "markdown",
      "metadata": {
        "id": "qfKB9dZT3o5S"
      },
      "source": [
        "#Step 3: Data Visualizing"
      ]
    },
    {
      "cell_type": "markdown",
      "metadata": {
        "id": "KcI45_fq3y1C"
      },
      "source": [
        "##Target Visualization"
      ]
    },
    {
      "cell_type": "code",
      "metadata": {
        "colab": {
          "base_uri": "https://localhost:8080/"
        },
        "id": "VSPZSd5Q3oiF",
        "outputId": "9ad0b04d-c722-4048-fdcc-cb9562b87539"
      },
      "source": [
        "Y.describe()"
      ],
      "execution_count": null,
      "outputs": [
        {
          "output_type": "execute_result",
          "data": {
            "text/plain": [
              "count    891.000000\n",
              "mean       0.383838\n",
              "std        0.486592\n",
              "min        0.000000\n",
              "25%        0.000000\n",
              "50%        0.000000\n",
              "75%        1.000000\n",
              "max        1.000000\n",
              "Name: Survived, dtype: float64"
            ]
          },
          "metadata": {},
          "execution_count": 13
        }
      ]
    },
    {
      "cell_type": "code",
      "metadata": {
        "colab": {
          "base_uri": "https://localhost:8080/",
          "height": 386
        },
        "id": "QwP5-M0YhixW",
        "outputId": "212b2252-47fa-4a6e-bb8c-c52a4e1d0111"
      },
      "source": [
        "sns.displot(Y)"
      ],
      "execution_count": null,
      "outputs": [
        {
          "output_type": "execute_result",
          "data": {
            "text/plain": [
              "<seaborn.axisgrid.FacetGrid at 0x7f1dde019dd0>"
            ]
          },
          "metadata": {},
          "execution_count": 14
        },
        {
          "output_type": "display_data",
          "data": {
            "image/png": "[encoded data removed]",
            "text/plain": [
              "<Figure size 360x360 with 1 Axes>"
            ]
          },
          "metadata": {
            "needs_background": "light"
          }
        }
      ]
    },
    {
      "cell_type": "code",
      "metadata": {
        "colab": {
          "base_uri": "https://localhost:8080/"
        },
        "id": "xQlshKtu6IRp",
        "outputId": "f196bd91-f3c1-496b-d12e-80bf8e817af0"
      },
      "source": [
        "y_1 = 100 * sum(Y>=1) / len(Y)\n",
        "y_0 = 100 - y_1\n",
        "print(f\"\"\"The Target contains % {y_1} one value and % {y_0} zero value\"\"\")\n",
        "#So more than half of the The people in titanic were that"
      ],
      "execution_count": null,
      "outputs": [
        {
          "output_type": "stream",
          "name": "stdout",
          "text": [
            "The Target contains % 38.38383838383838 one and % 61.61616161616162 zero\n"
          ]
        }
      ]
    },
    {
      "cell_type": "markdown",
      "metadata": {
        "id": "lw7IHXhA9KP8"
      },
      "source": [
        "##Features Data Visualization"
      ]
    },
    {
      "cell_type": "code",
      "metadata": {
        "id": "IurzWOAF68Yg"
      },
      "source": [
        "categorical_data = [\"Sex\", 'Embarked', \"Pclass\", \"SibSp\", \"Parch\"]\n",
        "le_x"
      ],
      "execution_count": null,
      "outputs": []
    },
    {
      "cell_type": "code",
      "metadata": {
        "id": "5DB5lU2tDWID",
        "colab": {
          "base_uri": "https://localhost:8080/",
          "height": 1000
        },
        "outputId": "324a0ccd-c877-406c-9b49-67e0b036d1d8"
      },
      "source": [
        "dpp.clf_countplot(X, Y)    "
      ],
      "execution_count": null,
      "outputs": [
        {
          "output_type": "stream",
          "name": "stdout",
          "text": [
            "Remmember this plot is only for categorical data\n"
          ]
        },
        {
          "output_type": "display_data",
          "data": {
            "image/png": "[encoded data removed]",
            "text/plain": [
              "<Figure size 288x288 with 1 Axes>"
            ]
          },
          "metadata": {
            "needs_background": "light"
          }
        },
        {
          "output_type": "display_data",
          "data": {
            "image/png": "[encoded data removed]",
            "text/plain": [
              "<Figure size 288x288 with 1 Axes>"
            ]
          },
          "metadata": {
            "needs_background": "light"
          }
        },
        {
          "output_type": "display_data",
          "data": {
            "image/png": "[encoded data removed]",
            "text/plain": [
              "<Figure size 288x288 with 1 Axes>"
            ]
          },
          "metadata": {
            "needs_background": "light"
          }
        },
        {
          "output_type": "display_data",
          "data": {
            "image/png": "[encoded data removed]",
            "text/plain": [
              "<Figure size 288x288 with 1 Axes>"
            ]
          },
          "metadata": {
            "needs_background": "light"
          }
        },
        {
          "output_type": "display_data",
          "data": {
            "image/png": "[encoded data removed]",
            "text/plain": [
              "<Figure size 288x288 with 1 Axes>"
            ]
          },
          "metadata": {
            "needs_background": "light"
          }
        },
        {
          "output_type": "display_data",
          "data": {
            "image/png": "[encoded data removed]",
            "text/plain": [
              "<Figure size 288x288 with 1 Axes>"
            ]
          },
          "metadata": {
            "needs_background": "light"
          }
        },
        {
          "output_type": "display_data",
          "data": {
            "image/png": "[encoded data removed]",
            "text/plain": [
              "<Figure size 288x288 with 1 Axes>"
            ]
          },
          "metadata": {
            "needs_background": "light"
          }
        }
      ]
    },
    {
      "cell_type": "code",
      "metadata": {
        "id": "F1pRRJO_MfiY",
        "colab": {
          "base_uri": "https://localhost:8080/",
          "height": 1000
        },
        "outputId": "98b6664f-4460-4934-df39-3dc05a53b7a0"
      },
      "source": [
        "dpp.clf_boxplot(X, Y)"
      ],
      "execution_count": null,
      "outputs": [
        {
          "output_type": "display_data",
          "data": {
            "image/png": "[encoded data removed]",
            "text/plain": [
              "<Figure size 288x288 with 1 Axes>"
            ]
          },
          "metadata": {
            "needs_background": "light"
          }
        },
        {
          "output_type": "display_data",
          "data": {
            "image/png": "[encoded data removed]",
            "text/plain": [
              "<Figure size 288x288 with 1 Axes>"
            ]
          },
          "metadata": {
            "needs_background": "light"
          }
        },
        {
          "output_type": "display_data",
          "data": {
            "image/png": "[encoded data removed]",
            "text/plain": [
              "<Figure size 288x288 with 1 Axes>"
            ]
          },
          "metadata": {
            "needs_background": "light"
          }
        },
        {
          "output_type": "display_data",
          "data": {
            "image/png": "[encoded data removed]",
            "text/plain": [
              "<Figure size 288x288 with 1 Axes>"
            ]
          },
          "metadata": {
            "needs_background": "light"
          }
        },
        {
          "output_type": "display_data",
          "data": {
            "image/png": "[encoded data removed]",
            "text/plain": [
              "<Figure size 288x288 with 1 Axes>"
            ]
          },
          "metadata": {
            "needs_background": "light"
          }
        },
        {
          "output_type": "display_data",
          "data": {
            "image/png": "[encoded data removed]",
            "text/plain": [
              "<Figure size 288x288 with 1 Axes>"
            ]
          },
          "metadata": {
            "needs_background": "light"
          }
        },
        {
          "output_type": "display_data",
          "data": {
            "image/png": "[encoded data removed]",
            "text/plain": [
              "<Figure size 288x288 with 1 Axes>"
            ]
          },
          "metadata": {
            "needs_background": "light"
          }
        }
      ]
    },
    {
      "cell_type": "markdown",
      "metadata": {
        "id": "I-TzGyS5W2Hx"
      },
      "source": [
        "#Step 4: Data Preprocessing"
      ]
    },
    {
      "cell_type": "code",
      "metadata": {
        "id": "ExVehJHyVMcw"
      },
      "source": [
        "le_data = pd.concat([le_x, Y], axis=1)\n",
        "one_data = pd.concat([one_x, Y], axis=1)"
      ],
      "execution_count": null,
      "outputs": []
    },
    {
      "cell_type": "code",
      "metadata": {
        "colab": {
          "base_uri": "https://localhost:8080/",
          "height": 537
        },
        "id": "AXfD4uMpW1M7",
        "outputId": "3a40ba17-cb13-48cc-9339-5625b8c08dfe"
      },
      "source": [
        "dpp.heatmap(one_data)"
      ],
      "execution_count": null,
      "outputs": [
        {
          "output_type": "display_data",
          "data": {
            "image/png": "[encoded data removed]",
            "text/plain": [
              "<Figure size 792x648 with 2 Axes>"
            ]
          },
          "metadata": {
            "needs_background": "light"
          }
        }
      ]
    },
    {
      "cell_type": "code",
      "metadata": {
        "id": "NLRZ5-q3bkRs"
      },
      "source": [
        "one_x.drop(columns=['male', 'Q', 'S'], inplace=True)"
      ],
      "execution_count": null,
      "outputs": []
    },
    {
      "cell_type": "code",
      "metadata": {
        "colab": {
          "base_uri": "https://localhost:8080/",
          "height": 537
        },
        "id": "phsRH3sIb-wG",
        "outputId": "5ec7e2d2-0452-4a1b-f085-95c6ca2360b9"
      },
      "source": [
        "dpp.heatmap(one_data)"
      ],
      "execution_count": null,
      "outputs": [
        {
          "output_type": "display_data",
          "data": {
            "image/png": "[encoded data removed]",
            "text/plain": [
              "<Figure size 792x648 with 2 Axes>"
            ]
          },
          "metadata": {
            "needs_background": "light"
          }
        }
      ]
    },
    {
      "cell_type": "code",
      "metadata": {
        "colab": {
          "base_uri": "https://localhost:8080/",
          "height": 483
        },
        "id": "BVflLZGVcL6K",
        "outputId": "e10728cd-c17e-4b09-bdef-cf6e39813c00"
      },
      "source": [
        "dpp.importance_plot(le_x, Y)"
      ],
      "execution_count": null,
      "outputs": [
        {
          "output_type": "display_data",
          "data": {
            "image/png": "[encoded data removed]",
            "text/plain": [
              "<Figure size 576x576 with 1 Axes>"
            ]
          },
          "metadata": {}
        }
      ]
    },
    {
      "cell_type": "code",
      "metadata": {
        "colab": {
          "base_uri": "https://localhost:8080/",
          "height": 483
        },
        "id": "uB0--gZxdjGv",
        "outputId": "aea42dbb-e6cd-415f-b104-1f8716bc248f"
      },
      "source": [
        "dpp.importance_plot(one_x, Y)"
      ],
      "execution_count": null,
      "outputs": [
        {
          "output_type": "display_data",
          "data": {
            "image/png": "[encoded data removed]",
            "text/plain": [
              "<Figure size 576x576 with 1 Axes>"
            ]
          },
          "metadata": {}
        }
      ]
    },
    {
      "cell_type": "code",
      "metadata": {
        "colab": {
          "base_uri": "https://localhost:8080/",
          "height": 297
        },
        "id": "DwitcNBofGbz",
        "outputId": "1f3fbdf4-9998-4965-dda6-7171ef61742f"
      },
      "source": [
        "dpp.multicollinearity(le_data)"
      ],
      "execution_count": null,
      "outputs": [
        {
          "output_type": "execute_result",
          "data": {
            "text/html": [
              "<div>\n",
              "<style scoped>\n",
              "    .dataframe tbody tr th:only-of-type {\n",
              "        vertical-align: middle;\n",
              "    }\n",
              "\n",
              "    .dataframe tbody tr th {\n",
              "        vertical-align: top;\n",
              "    }\n",
              "\n",
              "    .dataframe thead th {\n",
              "        text-align: right;\n",
              "    }\n",
              "</style>\n",
              "<table border=\"1\" class=\"dataframe\">\n",
              "  <thead>\n",
              "    <tr style=\"text-align: right;\">\n",
              "      <th></th>\n",
              "      <th>feature</th>\n",
              "      <th>VIF</th>\n",
              "    </tr>\n",
              "  </thead>\n",
              "  <tbody>\n",
              "    <tr>\n",
              "      <th>0</th>\n",
              "      <td>Pclass</td>\n",
              "      <td>6.106586</td>\n",
              "    </tr>\n",
              "    <tr>\n",
              "      <th>1</th>\n",
              "      <td>Sex</td>\n",
              "      <td>3.703474</td>\n",
              "    </tr>\n",
              "    <tr>\n",
              "      <th>2</th>\n",
              "      <td>Age</td>\n",
              "      <td>4.867663</td>\n",
              "    </tr>\n",
              "    <tr>\n",
              "      <th>3</th>\n",
              "      <td>SibSp</td>\n",
              "      <td>1.581848</td>\n",
              "    </tr>\n",
              "    <tr>\n",
              "      <th>4</th>\n",
              "      <td>Parch</td>\n",
              "      <td>1.615673</td>\n",
              "    </tr>\n",
              "    <tr>\n",
              "      <th>5</th>\n",
              "      <td>Fare</td>\n",
              "      <td>1.889539</td>\n",
              "    </tr>\n",
              "    <tr>\n",
              "      <th>6</th>\n",
              "      <td>Embarked</td>\n",
              "      <td>4.710068</td>\n",
              "    </tr>\n",
              "    <tr>\n",
              "      <th>7</th>\n",
              "      <td>Survived</td>\n",
              "      <td>1.953792</td>\n",
              "    </tr>\n",
              "  </tbody>\n",
              "</table>\n",
              "</div>"
            ],
            "text/plain": [
              "    feature       VIF\n",
              "0    Pclass  6.106586\n",
              "1       Sex  3.703474\n",
              "2       Age  4.867663\n",
              "3     SibSp  1.581848\n",
              "4     Parch  1.615673\n",
              "5      Fare  1.889539\n",
              "6  Embarked  4.710068\n",
              "7  Survived  1.953792"
            ]
          },
          "metadata": {},
          "execution_count": 25
        }
      ]
    },
    {
      "cell_type": "code",
      "metadata": {
        "colab": {
          "base_uri": "https://localhost:8080/",
          "height": 444
        },
        "id": "6X-r4VTXfYwW",
        "outputId": "e4427bc6-e609-4dd1-f308-6ab457a642f8"
      },
      "source": [
        "dpp.multicollinearity(one_data)"
      ],
      "execution_count": null,
      "outputs": [
        {
          "output_type": "stream",
          "name": "stderr",
          "text": [
            "/usr/local/lib/python3.7/dist-packages/statsmodels/stats/outliers_influence.py:185: RuntimeWarning: divide by zero encountered in double_scalars\n",
            "  vif = 1. / (1. - r_squared_i)\n"
          ]
        },
        {
          "output_type": "execute_result",
          "data": {
            "text/html": [
              "<div>\n",
              "<style scoped>\n",
              "    .dataframe tbody tr th:only-of-type {\n",
              "        vertical-align: middle;\n",
              "    }\n",
              "\n",
              "    .dataframe tbody tr th {\n",
              "        vertical-align: top;\n",
              "    }\n",
              "\n",
              "    .dataframe thead th {\n",
              "        text-align: right;\n",
              "    }\n",
              "</style>\n",
              "<table border=\"1\" class=\"dataframe\">\n",
              "  <thead>\n",
              "    <tr style=\"text-align: right;\">\n",
              "      <th></th>\n",
              "      <th>feature</th>\n",
              "      <th>VIF</th>\n",
              "    </tr>\n",
              "  </thead>\n",
              "  <tbody>\n",
              "    <tr>\n",
              "      <th>0</th>\n",
              "      <td>Pclass</td>\n",
              "      <td>1.914935</td>\n",
              "    </tr>\n",
              "    <tr>\n",
              "      <th>1</th>\n",
              "      <td>Age</td>\n",
              "      <td>1.254264</td>\n",
              "    </tr>\n",
              "    <tr>\n",
              "      <th>2</th>\n",
              "      <td>SibSp</td>\n",
              "      <td>1.297807</td>\n",
              "    </tr>\n",
              "    <tr>\n",
              "      <th>3</th>\n",
              "      <td>Parch</td>\n",
              "      <td>1.333121</td>\n",
              "    </tr>\n",
              "    <tr>\n",
              "      <th>4</th>\n",
              "      <td>Fare</td>\n",
              "      <td>1.650800</td>\n",
              "    </tr>\n",
              "    <tr>\n",
              "      <th>5</th>\n",
              "      <td>female</td>\n",
              "      <td>inf</td>\n",
              "    </tr>\n",
              "    <tr>\n",
              "      <th>6</th>\n",
              "      <td>male</td>\n",
              "      <td>inf</td>\n",
              "    </tr>\n",
              "    <tr>\n",
              "      <th>7</th>\n",
              "      <td>C</td>\n",
              "      <td>inf</td>\n",
              "    </tr>\n",
              "    <tr>\n",
              "      <th>8</th>\n",
              "      <td>Q</td>\n",
              "      <td>inf</td>\n",
              "    </tr>\n",
              "    <tr>\n",
              "      <th>9</th>\n",
              "      <td>S</td>\n",
              "      <td>inf</td>\n",
              "    </tr>\n",
              "    <tr>\n",
              "      <th>10</th>\n",
              "      <td>Survived</td>\n",
              "      <td>1.661138</td>\n",
              "    </tr>\n",
              "  </tbody>\n",
              "</table>\n",
              "</div>"
            ],
            "text/plain": [
              "     feature       VIF\n",
              "0     Pclass  1.914935\n",
              "1        Age  1.254264\n",
              "2      SibSp  1.297807\n",
              "3      Parch  1.333121\n",
              "4       Fare  1.650800\n",
              "5     female       inf\n",
              "6       male       inf\n",
              "7          C       inf\n",
              "8          Q       inf\n",
              "9          S       inf\n",
              "10  Survived  1.661138"
            ]
          },
          "metadata": {},
          "execution_count": 26
        }
      ]
    },
    {
      "cell_type": "code",
      "metadata": {
        "id": "Vgn2LR85faJA"
      },
      "source": [
        "standard_scaler = preprocessing.StandardScaler()\n",
        "minmax_scaler = preprocessing.MinMaxScaler()\n",
        "normalizer = preprocessing.Normalizer()\n",
        "\n",
        "le_x_standard = standard_scaler.fit_transform(le_x)\n",
        "le_x_minmax = minmax_scaler.fit_transform(le_x)\n",
        "le_x_normalizer = normalizer.fit_transform(le_x)\n",
        "\n",
        "\n",
        "one_x_standard = standard_scaler.fit_transform(one_x)\n",
        "one_x_minmax = minmax_scaler.fit_transform(one_x)\n",
        "one_x_normalizer = normalizer.fit_transform(one_x)"
      ],
      "execution_count": null,
      "outputs": []
    },
    {
      "cell_type": "code",
      "metadata": {
        "id": "Fjb-4dlXzA0I"
      },
      "source": [
        "np.random.seed(34)\n",
        "train_xl, test_xl, train_yl, test_yl = model_selection.train_test_split(le_x, Y, test_size=0.2, random_state=52)\n",
        "train_xo, test_xo, train_yo, test_yo = model_selection.train_test_split(one_x, Y, test_size=0.2, random_state=52)\n",
        "\n",
        "train_xos, test_xos, train_yos, test_yos = model_selection.train_test_split(one_x_standard, Y, test_size=0.2, random_state=52)\n",
        "train_xom, test_xom, train_yom, test_yom = model_selection.train_test_split(one_x_minmax, Y, test_size=0.2, random_state=52)\n",
        "train_xon, test_xon, train_yon, test_yon = model_selection.train_test_split(one_x_normalizer, Y, test_size=0.2, random_state=52)\n",
        "\n",
        "train_xls, test_xls, train_yls, test_yls = model_selection.train_test_split(le_x_standard, Y, test_size=0.2, random_state=52)\n",
        "train_xlm, test_xlm, train_ylm, test_ylm = model_selection.train_test_split(le_x_minmax, Y, test_size=0.2, random_state=52)\n",
        "train_xln, test_xln, train_yln, test_yln = model_selection.train_test_split(le_x_normalizer, Y, test_size=0.2, random_state=52)"
      ],
      "execution_count": null,
      "outputs": []
    },
    {
      "cell_type": "markdown",
      "metadata": {
        "id": "6nOHa50j2HCk"
      },
      "source": [
        "#Step 5: Model Selection\n",
        "\n",
        "at first with the Pure data"
      ]
    },
    {
      "cell_type": "code",
      "metadata": {
        "id": "R5F2rcpfHO6j"
      },
      "source": [
        "x_train, x_test, y_train, test_y = train_xo, test_xo, train_yo, test_yo\n",
        "# train_xl, test_xl, train_yl, test_yl\n",
        "# train_xos, test_xos, train_yos, test_yos\n",
        "# train_xom, test_xom, train_yom, test_yom\n",
        "# train_xon, test_xon, train_yon, test_yon\n",
        "# train_xls, test_xls, train_yls, test_yls\n",
        "# train_xlm, test_xlm, train_ylm, test_ylm\n",
        "# train_xln, test_xln, train_yln, test_yln"
      ],
      "execution_count": null,
      "outputs": []
    },
    {
      "cell_type": "code",
      "metadata": {
        "colab": {
          "base_uri": "https://localhost:8080/"
        },
        "id": "rUNT4Jop2GY8",
        "outputId": "7af464be-dda6-48b7-ae1a-ed4162ae7016"
      },
      "source": [
        "model1 = linear_model.LogisticRegressionCV()\n",
        "model1.fit(x_train, y_train)\n",
        "pred1=model1.predict(x_test)\n",
        "acc_1=metrics.accuracy_score(test_y, pred1)\n",
        "# model_selection.cross_val_score()\n",
        "acc_1"
      ],
      "execution_count": null,
      "outputs": [
        {
          "output_type": "stream",
          "name": "stderr",
          "text": [
            "/usr/local/lib/python3.7/dist-packages/sklearn/linear_model/_logistic.py:940: ConvergenceWarning: lbfgs failed to converge (status=1):\n",
            "STOP: TOTAL NO. of ITERATIONS REACHED LIMIT.\n",
            "\n",
            "Increase the number of iterations (max_iter) or scale the data as shown in:\n",
            "    https://scikit-learn.org/stable/modules/preprocessing.html\n",
            "Please also refer to the documentation for alternative solver options:\n",
            "    https://scikit-learn.org/stable/modules/linear_model.html#logistic-regression\n",
            "  extra_warning_msg=_LOGISTIC_SOLVER_CONVERGENCE_MSG)\n",
            "/usr/local/lib/python3.7/dist-packages/sklearn/linear_model/_logistic.py:940: ConvergenceWarning: lbfgs failed to converge (status=1):\n",
            "STOP: TOTAL NO. of ITERATIONS REACHED LIMIT.\n",
            "\n",
            "Increase the number of iterations (max_iter) or scale the data as shown in:\n",
            "    https://scikit-learn.org/stable/modules/preprocessing.html\n",
            "Please also refer to the documentation for alternative solver options:\n",
            "    https://scikit-learn.org/stable/modules/linear_model.html#logistic-regression\n",
            "  extra_warning_msg=_LOGISTIC_SOLVER_CONVERGENCE_MSG)\n",
            "/usr/local/lib/python3.7/dist-packages/sklearn/linear_model/_logistic.py:940: ConvergenceWarning: lbfgs failed to converge (status=1):\n",
            "STOP: TOTAL NO. of ITERATIONS REACHED LIMIT.\n",
            "\n",
            "Increase the number of iterations (max_iter) or scale the data as shown in:\n",
            "    https://scikit-learn.org/stable/modules/preprocessing.html\n",
            "Please also refer to the documentation for alternative solver options:\n",
            "    https://scikit-learn.org/stable/modules/linear_model.html#logistic-regression\n",
            "  extra_warning_msg=_LOGISTIC_SOLVER_CONVERGENCE_MSG)\n",
            "/usr/local/lib/python3.7/dist-packages/sklearn/linear_model/_logistic.py:940: ConvergenceWarning: lbfgs failed to converge (status=1):\n",
            "STOP: TOTAL NO. of ITERATIONS REACHED LIMIT.\n",
            "\n",
            "Increase the number of iterations (max_iter) or scale the data as shown in:\n",
            "    https://scikit-learn.org/stable/modules/preprocessing.html\n",
            "Please also refer to the documentation for alternative solver options:\n",
            "    https://scikit-learn.org/stable/modules/linear_model.html#logistic-regression\n",
            "  extra_warning_msg=_LOGISTIC_SOLVER_CONVERGENCE_MSG)\n",
            "/usr/local/lib/python3.7/dist-packages/sklearn/linear_model/_logistic.py:940: ConvergenceWarning: lbfgs failed to converge (status=1):\n",
            "STOP: TOTAL NO. of ITERATIONS REACHED LIMIT.\n",
            "\n",
            "Increase the number of iterations (max_iter) or scale the data as shown in:\n",
            "    https://scikit-learn.org/stable/modules/preprocessing.html\n",
            "Please also refer to the documentation for alternative solver options:\n",
            "    https://scikit-learn.org/stable/modules/linear_model.html#logistic-regression\n",
            "  extra_warning_msg=_LOGISTIC_SOLVER_CONVERGENCE_MSG)\n"
          ]
        },
        {
          "output_type": "execute_result",
          "data": {
            "text/plain": [
              "0.8044692737430168"
            ]
          },
          "metadata": {},
          "execution_count": 32
        }
      ]
    },
    {
      "cell_type": "code",
      "metadata": {
        "colab": {
          "base_uri": "https://localhost:8080/"
        },
        "id": "ca9NthSA12k1",
        "outputId": "d32e1c4f-19be-44e4-ed6c-d11fcc88d901"
      },
      "source": [
        "model2 = linear_model.RidgeClassifierCV()\n",
        "model2.fit(x_train, y_train)\n",
        "pred2=model2.predict(x_test)\n",
        "acc_2=metrics.accuracy_score(test_y, pred2)\n",
        "acc_2"
      ],
      "execution_count": null,
      "outputs": [
        {
          "output_type": "execute_result",
          "data": {
            "text/plain": [
              "0.8100558659217877"
            ]
          },
          "metadata": {},
          "execution_count": 33
        }
      ]
    },
    {
      "cell_type": "code",
      "metadata": {
        "colab": {
          "base_uri": "https://localhost:8080/"
        },
        "id": "LabE7bRzBPBn",
        "outputId": "656cc3e2-10de-4796-93db-094953e58453"
      },
      "source": [
        "model3 = linear_model.SGDClassifier()\n",
        "model3.fit(x_train, y_train)\n",
        "pred3=model3.predict(x_test)\n",
        "acc_3=metrics.accuracy_score(test_y, pred3)\n",
        "acc_3"
      ],
      "execution_count": null,
      "outputs": [
        {
          "output_type": "execute_result",
          "data": {
            "text/plain": [
              "0.7486033519553073"
            ]
          },
          "metadata": {},
          "execution_count": 34
        }
      ]
    },
    {
      "cell_type": "code",
      "metadata": {
        "colab": {
          "base_uri": "https://localhost:8080/"
        },
        "id": "f-z4yehdBbJS",
        "outputId": "c7571517-4299-45b2-ea8c-1866f96b7e37"
      },
      "source": [
        "model4 = neighbors.KNeighborsClassifier()\n",
        "model4.fit(x_train, y_train)\n",
        "pred4=model4.predict(x_test)\n",
        "acc_4=metrics.accuracy_score(test_y, pred4)\n",
        "acc_4"
      ],
      "execution_count": null,
      "outputs": [
        {
          "output_type": "execute_result",
          "data": {
            "text/plain": [
              "0.6815642458100558"
            ]
          },
          "metadata": {},
          "execution_count": 35
        }
      ]
    },
    {
      "cell_type": "code",
      "metadata": {
        "colab": {
          "base_uri": "https://localhost:8080/"
        },
        "id": "_XfKd7lJBq7b",
        "outputId": "17a58507-3055-4dbe-bac6-2384016c17aa"
      },
      "source": [
        "model5 = svm.LinearSVC()\n",
        "model5.fit(x_train, y_train)\n",
        "pred5=model5.predict(x_test)\n",
        "acc_5=metrics.accuracy_score(test_y, pred5)\n",
        "acc_5"
      ],
      "execution_count": null,
      "outputs": [
        {
          "output_type": "stream",
          "name": "stderr",
          "text": [
            "/usr/local/lib/python3.7/dist-packages/sklearn/svm/_base.py:947: ConvergenceWarning: Liblinear failed to converge, increase the number of iterations.\n",
            "  \"the number of iterations.\", ConvergenceWarning)\n"
          ]
        },
        {
          "output_type": "execute_result",
          "data": {
            "text/plain": [
              "0.6871508379888268"
            ]
          },
          "metadata": {},
          "execution_count": 36
        }
      ]
    },
    {
      "cell_type": "code",
      "metadata": {
        "colab": {
          "base_uri": "https://localhost:8080/"
        },
        "id": "O4I29nTOCG_O",
        "outputId": "d97382a0-b02e-4542-c8ea-8f59b477e68d"
      },
      "source": [
        "model6 = svm.SVC()\n",
        "model6.fit(x_train, y_train)\n",
        "pred6=model6.predict(x_test)\n",
        "acc_6=metrics.accuracy_score(test_y, pred6)\n",
        "acc_6"
      ],
      "execution_count": null,
      "outputs": [
        {
          "output_type": "execute_result",
          "data": {
            "text/plain": [
              "0.6536312849162011"
            ]
          },
          "metadata": {},
          "execution_count": 37
        }
      ]
    },
    {
      "cell_type": "code",
      "metadata": {
        "colab": {
          "base_uri": "https://localhost:8080/"
        },
        "id": "f0cEOJYJCW7B",
        "outputId": "fddff6e3-6592-4c4c-e6a6-af3513bd9b7f"
      },
      "source": [
        "model7 = svm.NuSVC()\n",
        "model7.fit(x_train, y_train)\n",
        "pred7=model7.predict(x_test)\n",
        "acc_7=metrics.accuracy_score(test_y, pred7)\n",
        "acc_7"
      ],
      "execution_count": null,
      "outputs": [
        {
          "output_type": "execute_result",
          "data": {
            "text/plain": [
              "0.7988826815642458"
            ]
          },
          "metadata": {},
          "execution_count": 38
        }
      ]
    },
    {
      "cell_type": "code",
      "metadata": {
        "colab": {
          "base_uri": "https://localhost:8080/"
        },
        "id": "OLeRghXPCgqp",
        "outputId": "06257d09-b110-433d-c835-0e872446a021"
      },
      "source": [
        "model8 = tree.DecisionTreeClassifier()\n",
        "model8.fit(x_train, y_train)\n",
        "pred8=model8.predict(x_test)\n",
        "acc_8=metrics.accuracy_score(test_y, pred8)\n",
        "acc_8"
      ],
      "execution_count": null,
      "outputs": [
        {
          "output_type": "execute_result",
          "data": {
            "text/plain": [
              "0.7597765363128491"
            ]
          },
          "metadata": {},
          "execution_count": 39
        }
      ]
    },
    {
      "cell_type": "code",
      "metadata": {
        "colab": {
          "base_uri": "https://localhost:8080/"
        },
        "id": "nu-Rba-lCs5m",
        "outputId": "a08ae575-dd69-447e-f44d-e315ed733458"
      },
      "source": [
        "model9 = tree.ExtraTreeClassifier()\n",
        "model9.fit(x_train, y_train)\n",
        "pred9=model9.predict(x_test)\n",
        "acc_9=metrics.accuracy_score(test_y, pred9)\n",
        "acc_9"
      ],
      "execution_count": null,
      "outputs": [
        {
          "output_type": "execute_result",
          "data": {
            "text/plain": [
              "0.776536312849162"
            ]
          },
          "metadata": {},
          "execution_count": 40
        }
      ]
    },
    {
      "cell_type": "code",
      "metadata": {
        "colab": {
          "base_uri": "https://localhost:8080/"
        },
        "id": "SGBf8vPECzpt",
        "outputId": "98c1c3e4-e719-4659-f4aa-4580581404f5"
      },
      "source": [
        "model10 = ensemble.AdaBoostClassifier()\n",
        "model10.fit(x_train, y_train)\n",
        "pred10=model10.predict(x_test)\n",
        "acc_10=metrics.accuracy_score(test_y, pred10)\n",
        "acc_10"
      ],
      "execution_count": null,
      "outputs": [
        {
          "output_type": "execute_result",
          "data": {
            "text/plain": [
              "0.8268156424581006"
            ]
          },
          "metadata": {},
          "execution_count": 41
        }
      ]
    },
    {
      "cell_type": "code",
      "metadata": {
        "colab": {
          "base_uri": "https://localhost:8080/"
        },
        "id": "dYmskojqC8Pp",
        "outputId": "b37829c2-bd3e-4490-89b5-842f45fd344d"
      },
      "source": [
        "model11 = ensemble.BaggingClassifier()\n",
        "model11.fit(x_train, y_train)\n",
        "pred11=model11.predict(x_test)\n",
        "acc_11=metrics.accuracy_score(test_y, pred11)\n",
        "acc_11"
      ],
      "execution_count": null,
      "outputs": [
        {
          "output_type": "execute_result",
          "data": {
            "text/plain": [
              "0.8044692737430168"
            ]
          },
          "metadata": {},
          "execution_count": 42
        }
      ]
    },
    {
      "cell_type": "code",
      "metadata": {
        "colab": {
          "base_uri": "https://localhost:8080/"
        },
        "id": "UgQ6IwJHDMZJ",
        "outputId": "9bed2b6c-d3c0-48d9-9a1a-c36c4d631415"
      },
      "source": [
        "model12 = ensemble.ExtraTreesClassifier()\n",
        "model12.fit(x_train, y_train)\n",
        "pred12=model12.predict(x_test)\n",
        "acc_12=metrics.accuracy_score(test_y, pred12)\n",
        "acc_12"
      ],
      "execution_count": null,
      "outputs": [
        {
          "output_type": "execute_result",
          "data": {
            "text/plain": [
              "0.7932960893854749"
            ]
          },
          "metadata": {},
          "execution_count": 43
        }
      ]
    },
    {
      "cell_type": "code",
      "metadata": {
        "colab": {
          "base_uri": "https://localhost:8080/"
        },
        "id": "5zUNKku6DUot",
        "outputId": "1d0d1f47-00d7-40ea-f120-9ce84a010aea"
      },
      "source": [
        "model13 = ensemble.GradientBoostingClassifier()\n",
        "model13.fit(x_train, y_train)\n",
        "pred13=model13.predict(x_test)\n",
        "acc_13=metrics.accuracy_score(test_y, pred13)\n",
        "acc_13"
      ],
      "execution_count": null,
      "outputs": [
        {
          "output_type": "execute_result",
          "data": {
            "text/plain": [
              "0.8603351955307262"
            ]
          },
          "metadata": {},
          "execution_count": 44
        }
      ]
    },
    {
      "cell_type": "code",
      "metadata": {
        "colab": {
          "base_uri": "https://localhost:8080/"
        },
        "id": "KCo4HadjDdSA",
        "outputId": "3fe82e4d-b0d4-428f-f635-398fe2c9b6fa"
      },
      "source": [
        "model14 = ensemble.RandomForestClassifier()\n",
        "model14.fit(x_train, y_train)\n",
        "pred14=model14.predict(x_test)\n",
        "acc_14=metrics.accuracy_score(test_y, pred14)\n",
        "acc_14"
      ],
      "execution_count": null,
      "outputs": [
        {
          "output_type": "execute_result",
          "data": {
            "text/plain": [
              "0.8100558659217877"
            ]
          },
          "metadata": {},
          "execution_count": 45
        }
      ]
    },
    {
      "cell_type": "code",
      "metadata": {
        "colab": {
          "base_uri": "https://localhost:8080/"
        },
        "id": "4JsD4vRISuAM",
        "outputId": "e09bc850-dab4-42af-a277-53d3ae87749c"
      },
      "source": [
        "model15 = xgboost.XGBClassifier()\n",
        "model15.fit(x_train, y_train)\n",
        "pred15=model15.predict(x_test)\n",
        "acc_15=metrics.accuracy_score(test_y, pred15)\n",
        "acc_15"
      ],
      "execution_count": null,
      "outputs": [
        {
          "output_type": "execute_result",
          "data": {
            "text/plain": [
              "0.8379888268156425"
            ]
          },
          "metadata": {},
          "execution_count": 46
        }
      ]
    },
    {
      "cell_type": "code",
      "metadata": {
        "colab": {
          "base_uri": "https://localhost:8080/"
        },
        "id": "GEPcAufqS3-R",
        "outputId": "d5b5c6df-7e97-45a8-e5a0-2b9f3aa72e2e"
      },
      "source": [
        "model16 = xgboost.XGBRFClassifier()\n",
        "model16.fit(x_train, y_train)\n",
        "pred16=model16.predict(x_test)\n",
        "acc_16=metrics.accuracy_score(test_y, pred16)\n",
        "acc_16"
      ],
      "execution_count": null,
      "outputs": [
        {
          "output_type": "execute_result",
          "data": {
            "text/plain": [
              "0.8044692737430168"
            ]
          },
          "metadata": {},
          "execution_count": 47
        }
      ]
    },
    {
      "cell_type": "code",
      "metadata": {
        "id": "gzGMO2eKDmTx"
      },
      "source": [
        "def model_selection_func(x_train, y_train):\n",
        "    model1 = linear_model.LogisticRegressionCV()\n",
        "    model1.fit(x_train, y_train)\n",
        "    pred1=model1.predict(x_test)\n",
        "    acc_1=metrics.accuracy_score(test_y, pred1)\n",
        "    model2 = linear_model.RidgeClassifierCV()\n",
        "    model2.fit(x_train, y_train)\n",
        "    pred2=model2.predict(x_test)\n",
        "    acc_2=metrics.accuracy_score(test_y, pred2)\n",
        "    model3 = linear_model.SGDClassifier()\n",
        "    model3.fit(x_train, y_train)\n",
        "    pred3=model3.predict(x_test)\n",
        "    acc_3=metrics.accuracy_score(test_y, pred3)\n",
        "    model4 = neighbors.KNeighborsClassifier()\n",
        "    model4.fit(x_train, y_train)\n",
        "    pred4=model4.predict(x_test)\n",
        "    acc_4=metrics.accuracy_score(test_y, pred4)\n",
        "    model5 = svm.LinearSVC()\n",
        "    model5.fit(x_train, y_train)\n",
        "    pred5=model5.predict(x_test)\n",
        "    acc_5=metrics.accuracy_score(test_y, pred5)\n",
        "    model6 = svm.SVC()\n",
        "    model6.fit(x_train, y_train)\n",
        "    pred6=model6.predict(x_test)\n",
        "    acc_6=metrics.accuracy_score(test_y, pred6)\n",
        "    model7 = svm.NuSVC()\n",
        "    model7.fit(x_train, y_train)\n",
        "    pred7=model7.predict(x_test)\n",
        "    acc_7=metrics.accuracy_score(test_y, pred7)\n",
        "    model8 = tree.DecisionTreeClassifier()\n",
        "    model8.fit(x_train, y_train)\n",
        "    pred8=model8.predict(x_test)\n",
        "    acc_8=metrics.accuracy_score(test_y, pred8)\n",
        "    model9 = tree.ExtraTreeClassifier()\n",
        "    model9.fit(x_train, y_train)\n",
        "    pred9=model9.predict(x_test)\n",
        "    acc_9=metrics.accuracy_score(test_y, pred9)\n",
        "    model10 = ensemble.AdaBoostClassifier()\n",
        "    model10.fit(x_train, y_train)\n",
        "    pred10=model10.predict(x_test)\n",
        "    acc_10=metrics.accuracy_score(test_y, pred10)\n",
        "    model11 = ensemble.BaggingClassifier()\n",
        "    model11.fit(x_train, y_train)\n",
        "    pred11=model11.predict(x_test)\n",
        "    acc_11=metrics.accuracy_score(test_y, pred11)\n",
        "    model12 = ensemble.ExtraTreesClassifier()\n",
        "    model12.fit(x_train, y_train)\n",
        "    pred12=model12.predict(x_test)\n",
        "    acc_12=metrics.accuracy_score(test_y, pred12)\n",
        "    model13 = ensemble.GradientBoostingClassifier()\n",
        "    model13.fit(x_train, y_train)\n",
        "    pred13=model13.predict(x_test)\n",
        "    acc_13=metrics.accuracy_score(test_y, pred13)\n",
        "    model14 = ensemble.RandomForestClassifier()\n",
        "    model14.fit(x_train, y_train)\n",
        "    pred14=model14.predict(x_test)\n",
        "    acc_14=metrics.accuracy_score(test_y, pred14)\n",
        "\n",
        "\n",
        "    val_score_1=model_selection.cross_val_score(model1, x_train, y_train),\n",
        "    val_score_2=model_selection.cross_val_score(model2, x_train, y_train),\n",
        "    val_score_3=model_selection.cross_val_score(model3, x_train, y_train),\n",
        "    val_score_4=model_selection.cross_val_score(model4, x_train, y_train),\n",
        "    val_score_5=model_selection.cross_val_score(model5, x_train, y_train),\n",
        "    val_score_6=model_selection.cross_val_score(model6, x_train, y_train),\n",
        "    val_score_7=model_selection.cross_val_score(model7, x_train, y_train),\n",
        "    val_score_8=model_selection.cross_val_score(model8, x_train, y_train),\n",
        "    val_score_9=model_selection.cross_val_score(model9, x_train, y_train),\n",
        "    val_score_10=model_selection.cross_val_score(model10, x_train, y_train),\n",
        "    val_score_11=model_selection.cross_val_score(model11, x_train, y_train),\n",
        "    val_score_12=model_selection.cross_val_score(model12, x_train, y_train),\n",
        "    val_score_13=model_selection.cross_val_score(model13, x_train, y_train),\n",
        "    val_score_14=model_selection.cross_val_score(model14, x_train, y_train),\n",
        "\n",
        "\n",
        "    acc_dff = {\n",
        "        'model_1': acc_1,\n",
        "        'model_2': acc_2,\n",
        "        'model_3': acc_3,\n",
        "        'model_4': acc_4,\n",
        "        'model_5': acc_5,\n",
        "        'model_6': acc_6,\n",
        "        'model_7': acc_7,\n",
        "        'model_8': acc_8,\n",
        "        'model_9': acc_9,\n",
        "        'model_10': acc_10,\n",
        "        'model_11': acc_11,\n",
        "        'model_12': acc_12,\n",
        "        'model_13': acc_13,\n",
        "        'model_14': acc_14,\n",
        "    }\n",
        "\n",
        "    val_score_dff = {\n",
        "        'model_1': np.mean(val_score_1),\n",
        "        'model_2': np.mean(val_score_2),\n",
        "        'model_3': np.mean(val_score_3),\n",
        "        'model_4': np.mean(val_score_4),\n",
        "        'model_5': np.mean(val_score_5),\n",
        "        'model_6': np.mean(val_score_6),\n",
        "        'model_7': np.mean(val_score_7),\n",
        "        'model_8': np.mean(val_score_8),\n",
        "        'model_9': np.mean(val_score_9),\n",
        "        'model_10': np.mean(val_score_10),\n",
        "        'model_11': np.mean(val_score_11),\n",
        "        'model_12': np.mean(val_score_12),\n",
        "        'model_13': np.mean(val_score_13),\n",
        "        'model_14': np.mean(val_score_14),\n",
        "    }\n",
        "    return acc_dff, val_score_dff"
      ],
      "execution_count": null,
      "outputs": []
    },
    {
      "cell_type": "code",
      "metadata": {
        "colab": {
          "base_uri": "https://localhost:8080/"
        },
        "id": "1M5m-vH1IYDq",
        "outputId": "2ee074b1-54f8-41f6-ea3f-3bd1cfb71f7e"
      },
      "source": [
        "data_groups = [[train_xl, train_yl], [train_xo, train_yo], [train_xos, train_yos], [train_xom, train_yom], \n",
        "               [train_xon, train_yon], [train_xls, train_yls], [train_xlm, train_ylm], [train_xln, train_yln]]\n",
        "\n",
        "all_acc_df = pd.DataFrame()\n",
        "all_val_score_df = pd.DataFrame()\n",
        "\n",
        "for i, g in enumerate(data_groups):\n",
        "  acc, val_score = model_selection_func(g[0], g[1])\n",
        "  all_acc_df[i] = acc.values()\n",
        "  all_val_score_df[i] = val_score.values()"
      ],
      "execution_count": null,
      "outputs": [
        {
          "output_type": "stream",
          "name": "stderr",
          "text": [
            "/usr/local/lib/python3.7/dist-packages/sklearn/svm/_base.py:947: ConvergenceWarning: Liblinear failed to converge, increase the number of iterations.\n",
            "  \"the number of iterations.\", ConvergenceWarning)\n",
            "/usr/local/lib/python3.7/dist-packages/sklearn/linear_model/_logistic.py:940: ConvergenceWarning: lbfgs failed to converge (status=1):\n",
            "STOP: TOTAL NO. of ITERATIONS REACHED LIMIT.\n",
            "\n",
            "Increase the number of iterations (max_iter) or scale the data as shown in:\n",
            "    https://scikit-learn.org/stable/modules/preprocessing.html\n",
            "Please also refer to the documentation for alternative solver options:\n",
            "    https://scikit-learn.org/stable/modules/linear_model.html#logistic-regression\n",
            "  extra_warning_msg=_LOGISTIC_SOLVER_CONVERGENCE_MSG)\n",
            "/usr/local/lib/python3.7/dist-packages/sklearn/linear_model/_logistic.py:940: ConvergenceWarning: lbfgs failed to converge (status=1):\n",
            "STOP: TOTAL NO. of ITERATIONS REACHED LIMIT.\n",
            "\n",
            "Increase the number of iterations (max_iter) or scale the data as shown in:\n",
            "    https://scikit-learn.org/stable/modules/preprocessing.html\n",
            "Please also refer to the documentation for alternative solver options:\n",
            "    https://scikit-learn.org/stable/modules/linear_model.html#logistic-regression\n",
            "  extra_warning_msg=_LOGISTIC_SOLVER_CONVERGENCE_MSG)\n",
            "/usr/local/lib/python3.7/dist-packages/sklearn/linear_model/_logistic.py:940: ConvergenceWarning: lbfgs failed to converge (status=1):\n",
            "STOP: TOTAL NO. of ITERATIONS REACHED LIMIT.\n",
            "\n",
            "Increase the number of iterations (max_iter) or scale the data as shown in:\n",
            "    https://scikit-learn.org/stable/modules/preprocessing.html\n",
            "Please also refer to the documentation for alternative solver options:\n",
            "    https://scikit-learn.org/stable/modules/linear_model.html#logistic-regression\n",
            "  extra_warning_msg=_LOGISTIC_SOLVER_CONVERGENCE_MSG)\n",
            "/usr/local/lib/python3.7/dist-packages/sklearn/linear_model/_logistic.py:940: ConvergenceWarning: lbfgs failed to converge (status=1):\n",
            "STOP: TOTAL NO. of ITERATIONS REACHED LIMIT.\n",
            "\n",
            "Increase the number of iterations (max_iter) or scale the data as shown in:\n",
            "    https://scikit-learn.org/stable/modules/preprocessing.html\n",
            "Please also refer to the documentation for alternative solver options:\n",
            "    https://scikit-learn.org/stable/modules/linear_model.html#logistic-regression\n",
            "  extra_warning_msg=_LOGISTIC_SOLVER_CONVERGENCE_MSG)\n",
            "/usr/local/lib/python3.7/dist-packages/sklearn/svm/_base.py:947: ConvergenceWarning: Liblinear failed to converge, increase the number of iterations.\n",
            "  \"the number of iterations.\", ConvergenceWarning)\n",
            "/usr/local/lib/python3.7/dist-packages/sklearn/svm/_base.py:947: ConvergenceWarning: Liblinear failed to converge, increase the number of iterations.\n",
            "  \"the number of iterations.\", ConvergenceWarning)\n",
            "/usr/local/lib/python3.7/dist-packages/sklearn/svm/_base.py:947: ConvergenceWarning: Liblinear failed to converge, increase the number of iterations.\n",
            "  \"the number of iterations.\", ConvergenceWarning)\n",
            "/usr/local/lib/python3.7/dist-packages/sklearn/svm/_base.py:947: ConvergenceWarning: Liblinear failed to converge, increase the number of iterations.\n",
            "  \"the number of iterations.\", ConvergenceWarning)\n",
            "/usr/local/lib/python3.7/dist-packages/sklearn/svm/_base.py:947: ConvergenceWarning: Liblinear failed to converge, increase the number of iterations.\n",
            "  \"the number of iterations.\", ConvergenceWarning)\n",
            "/usr/local/lib/python3.7/dist-packages/sklearn/linear_model/_logistic.py:940: ConvergenceWarning: lbfgs failed to converge (status=1):\n",
            "STOP: TOTAL NO. of ITERATIONS REACHED LIMIT.\n",
            "\n",
            "Increase the number of iterations (max_iter) or scale the data as shown in:\n",
            "    https://scikit-learn.org/stable/modules/preprocessing.html\n",
            "Please also refer to the documentation for alternative solver options:\n",
            "    https://scikit-learn.org/stable/modules/linear_model.html#logistic-regression\n",
            "  extra_warning_msg=_LOGISTIC_SOLVER_CONVERGENCE_MSG)\n",
            "/usr/local/lib/python3.7/dist-packages/sklearn/linear_model/_logistic.py:940: ConvergenceWarning: lbfgs failed to converge (status=1):\n",
            "STOP: TOTAL NO. of ITERATIONS REACHED LIMIT.\n",
            "\n",
            "Increase the number of iterations (max_iter) or scale the data as shown in:\n",
            "    https://scikit-learn.org/stable/modules/preprocessing.html\n",
            "Please also refer to the documentation for alternative solver options:\n",
            "    https://scikit-learn.org/stable/modules/linear_model.html#logistic-regression\n",
            "  extra_warning_msg=_LOGISTIC_SOLVER_CONVERGENCE_MSG)\n",
            "/usr/local/lib/python3.7/dist-packages/sklearn/linear_model/_logistic.py:940: ConvergenceWarning: lbfgs failed to converge (status=1):\n",
            "STOP: TOTAL NO. of ITERATIONS REACHED LIMIT.\n",
            "\n",
            "Increase the number of iterations (max_iter) or scale the data as shown in:\n",
            "    https://scikit-learn.org/stable/modules/preprocessing.html\n",
            "Please also refer to the documentation for alternative solver options:\n",
            "    https://scikit-learn.org/stable/modules/linear_model.html#logistic-regression\n",
            "  extra_warning_msg=_LOGISTIC_SOLVER_CONVERGENCE_MSG)\n",
            "/usr/local/lib/python3.7/dist-packages/sklearn/linear_model/_logistic.py:940: ConvergenceWarning: lbfgs failed to converge (status=1):\n",
            "STOP: TOTAL NO. of ITERATIONS REACHED LIMIT.\n",
            "\n",
            "Increase the number of iterations (max_iter) or scale the data as shown in:\n",
            "    https://scikit-learn.org/stable/modules/preprocessing.html\n",
            "Please also refer to the documentation for alternative solver options:\n",
            "    https://scikit-learn.org/stable/modules/linear_model.html#logistic-regression\n",
            "  extra_warning_msg=_LOGISTIC_SOLVER_CONVERGENCE_MSG)\n",
            "/usr/local/lib/python3.7/dist-packages/sklearn/linear_model/_logistic.py:940: ConvergenceWarning: lbfgs failed to converge (status=1):\n",
            "STOP: TOTAL NO. of ITERATIONS REACHED LIMIT.\n",
            "\n",
            "Increase the number of iterations (max_iter) or scale the data as shown in:\n",
            "    https://scikit-learn.org/stable/modules/preprocessing.html\n",
            "Please also refer to the documentation for alternative solver options:\n",
            "    https://scikit-learn.org/stable/modules/linear_model.html#logistic-regression\n",
            "  extra_warning_msg=_LOGISTIC_SOLVER_CONVERGENCE_MSG)\n",
            "/usr/local/lib/python3.7/dist-packages/sklearn/svm/_base.py:947: ConvergenceWarning: Liblinear failed to converge, increase the number of iterations.\n",
            "  \"the number of iterations.\", ConvergenceWarning)\n",
            "/usr/local/lib/python3.7/dist-packages/sklearn/linear_model/_logistic.py:940: ConvergenceWarning: lbfgs failed to converge (status=1):\n",
            "STOP: TOTAL NO. of ITERATIONS REACHED LIMIT.\n",
            "\n",
            "Increase the number of iterations (max_iter) or scale the data as shown in:\n",
            "    https://scikit-learn.org/stable/modules/preprocessing.html\n",
            "Please also refer to the documentation for alternative solver options:\n",
            "    https://scikit-learn.org/stable/modules/linear_model.html#logistic-regression\n",
            "  extra_warning_msg=_LOGISTIC_SOLVER_CONVERGENCE_MSG)\n",
            "/usr/local/lib/python3.7/dist-packages/sklearn/linear_model/_logistic.py:940: ConvergenceWarning: lbfgs failed to converge (status=1):\n",
            "STOP: TOTAL NO. of ITERATIONS REACHED LIMIT.\n",
            "\n",
            "Increase the number of iterations (max_iter) or scale the data as shown in:\n",
            "    https://scikit-learn.org/stable/modules/preprocessing.html\n",
            "Please also refer to the documentation for alternative solver options:\n",
            "    https://scikit-learn.org/stable/modules/linear_model.html#logistic-regression\n",
            "  extra_warning_msg=_LOGISTIC_SOLVER_CONVERGENCE_MSG)\n",
            "/usr/local/lib/python3.7/dist-packages/sklearn/linear_model/_logistic.py:940: ConvergenceWarning: lbfgs failed to converge (status=1):\n",
            "STOP: TOTAL NO. of ITERATIONS REACHED LIMIT.\n",
            "\n",
            "Increase the number of iterations (max_iter) or scale the data as shown in:\n",
            "    https://scikit-learn.org/stable/modules/preprocessing.html\n",
            "Please also refer to the documentation for alternative solver options:\n",
            "    https://scikit-learn.org/stable/modules/linear_model.html#logistic-regression\n",
            "  extra_warning_msg=_LOGISTIC_SOLVER_CONVERGENCE_MSG)\n",
            "/usr/local/lib/python3.7/dist-packages/sklearn/linear_model/_logistic.py:940: ConvergenceWarning: lbfgs failed to converge (status=1):\n",
            "STOP: TOTAL NO. of ITERATIONS REACHED LIMIT.\n",
            "\n",
            "Increase the number of iterations (max_iter) or scale the data as shown in:\n",
            "    https://scikit-learn.org/stable/modules/preprocessing.html\n",
            "Please also refer to the documentation for alternative solver options:\n",
            "    https://scikit-learn.org/stable/modules/linear_model.html#logistic-regression\n",
            "  extra_warning_msg=_LOGISTIC_SOLVER_CONVERGENCE_MSG)\n",
            "/usr/local/lib/python3.7/dist-packages/sklearn/linear_model/_logistic.py:940: ConvergenceWarning: lbfgs failed to converge (status=1):\n",
            "STOP: TOTAL NO. of ITERATIONS REACHED LIMIT.\n",
            "\n",
            "Increase the number of iterations (max_iter) or scale the data as shown in:\n",
            "    https://scikit-learn.org/stable/modules/preprocessing.html\n",
            "Please also refer to the documentation for alternative solver options:\n",
            "    https://scikit-learn.org/stable/modules/linear_model.html#logistic-regression\n",
            "  extra_warning_msg=_LOGISTIC_SOLVER_CONVERGENCE_MSG)\n",
            "/usr/local/lib/python3.7/dist-packages/sklearn/linear_model/_logistic.py:940: ConvergenceWarning: lbfgs failed to converge (status=1):\n",
            "STOP: TOTAL NO. of ITERATIONS REACHED LIMIT.\n",
            "\n",
            "Increase the number of iterations (max_iter) or scale the data as shown in:\n",
            "    https://scikit-learn.org/stable/modules/preprocessing.html\n",
            "Please also refer to the documentation for alternative solver options:\n",
            "    https://scikit-learn.org/stable/modules/linear_model.html#logistic-regression\n",
            "  extra_warning_msg=_LOGISTIC_SOLVER_CONVERGENCE_MSG)\n",
            "/usr/local/lib/python3.7/dist-packages/sklearn/linear_model/_logistic.py:940: ConvergenceWarning: lbfgs failed to converge (status=1):\n",
            "STOP: TOTAL NO. of ITERATIONS REACHED LIMIT.\n",
            "\n",
            "Increase the number of iterations (max_iter) or scale the data as shown in:\n",
            "    https://scikit-learn.org/stable/modules/preprocessing.html\n",
            "Please also refer to the documentation for alternative solver options:\n",
            "    https://scikit-learn.org/stable/modules/linear_model.html#logistic-regression\n",
            "  extra_warning_msg=_LOGISTIC_SOLVER_CONVERGENCE_MSG)\n",
            "/usr/local/lib/python3.7/dist-packages/sklearn/linear_model/_logistic.py:940: ConvergenceWarning: lbfgs failed to converge (status=1):\n",
            "STOP: TOTAL NO. of ITERATIONS REACHED LIMIT.\n",
            "\n",
            "Increase the number of iterations (max_iter) or scale the data as shown in:\n",
            "    https://scikit-learn.org/stable/modules/preprocessing.html\n",
            "Please also refer to the documentation for alternative solver options:\n",
            "    https://scikit-learn.org/stable/modules/linear_model.html#logistic-regression\n",
            "  extra_warning_msg=_LOGISTIC_SOLVER_CONVERGENCE_MSG)\n",
            "/usr/local/lib/python3.7/dist-packages/sklearn/linear_model/_logistic.py:940: ConvergenceWarning: lbfgs failed to converge (status=1):\n",
            "STOP: TOTAL NO. of ITERATIONS REACHED LIMIT.\n",
            "\n",
            "Increase the number of iterations (max_iter) or scale the data as shown in:\n",
            "    https://scikit-learn.org/stable/modules/preprocessing.html\n",
            "Please also refer to the documentation for alternative solver options:\n",
            "    https://scikit-learn.org/stable/modules/linear_model.html#logistic-regression\n",
            "  extra_warning_msg=_LOGISTIC_SOLVER_CONVERGENCE_MSG)\n",
            "/usr/local/lib/python3.7/dist-packages/sklearn/linear_model/_logistic.py:940: ConvergenceWarning: lbfgs failed to converge (status=1):\n",
            "STOP: TOTAL NO. of ITERATIONS REACHED LIMIT.\n",
            "\n",
            "Increase the number of iterations (max_iter) or scale the data as shown in:\n",
            "    https://scikit-learn.org/stable/modules/preprocessing.html\n",
            "Please also refer to the documentation for alternative solver options:\n",
            "    https://scikit-learn.org/stable/modules/linear_model.html#logistic-regression\n",
            "  extra_warning_msg=_LOGISTIC_SOLVER_CONVERGENCE_MSG)\n",
            "/usr/local/lib/python3.7/dist-packages/sklearn/linear_model/_logistic.py:940: ConvergenceWarning: lbfgs failed to converge (status=1):\n",
            "STOP: TOTAL NO. of ITERATIONS REACHED LIMIT.\n",
            "\n",
            "Increase the number of iterations (max_iter) or scale the data as shown in:\n",
            "    https://scikit-learn.org/stable/modules/preprocessing.html\n",
            "Please also refer to the documentation for alternative solver options:\n",
            "    https://scikit-learn.org/stable/modules/linear_model.html#logistic-regression\n",
            "  extra_warning_msg=_LOGISTIC_SOLVER_CONVERGENCE_MSG)\n",
            "/usr/local/lib/python3.7/dist-packages/sklearn/linear_model/_logistic.py:940: ConvergenceWarning: lbfgs failed to converge (status=1):\n",
            "STOP: TOTAL NO. of ITERATIONS REACHED LIMIT.\n",
            "\n",
            "Increase the number of iterations (max_iter) or scale the data as shown in:\n",
            "    https://scikit-learn.org/stable/modules/preprocessing.html\n",
            "Please also refer to the documentation for alternative solver options:\n",
            "    https://scikit-learn.org/stable/modules/linear_model.html#logistic-regression\n",
            "  extra_warning_msg=_LOGISTIC_SOLVER_CONVERGENCE_MSG)\n",
            "/usr/local/lib/python3.7/dist-packages/sklearn/linear_model/_logistic.py:940: ConvergenceWarning: lbfgs failed to converge (status=1):\n",
            "STOP: TOTAL NO. of ITERATIONS REACHED LIMIT.\n",
            "\n",
            "Increase the number of iterations (max_iter) or scale the data as shown in:\n",
            "    https://scikit-learn.org/stable/modules/preprocessing.html\n",
            "Please also refer to the documentation for alternative solver options:\n",
            "    https://scikit-learn.org/stable/modules/linear_model.html#logistic-regression\n",
            "  extra_warning_msg=_LOGISTIC_SOLVER_CONVERGENCE_MSG)\n",
            "/usr/local/lib/python3.7/dist-packages/sklearn/linear_model/_logistic.py:940: ConvergenceWarning: lbfgs failed to converge (status=1):\n",
            "STOP: TOTAL NO. of ITERATIONS REACHED LIMIT.\n",
            "\n",
            "Increase the number of iterations (max_iter) or scale the data as shown in:\n",
            "    https://scikit-learn.org/stable/modules/preprocessing.html\n",
            "Please also refer to the documentation for alternative solver options:\n",
            "    https://scikit-learn.org/stable/modules/linear_model.html#logistic-regression\n",
            "  extra_warning_msg=_LOGISTIC_SOLVER_CONVERGENCE_MSG)\n",
            "/usr/local/lib/python3.7/dist-packages/sklearn/linear_model/_logistic.py:940: ConvergenceWarning: lbfgs failed to converge (status=1):\n",
            "STOP: TOTAL NO. of ITERATIONS REACHED LIMIT.\n",
            "\n",
            "Increase the number of iterations (max_iter) or scale the data as shown in:\n",
            "    https://scikit-learn.org/stable/modules/preprocessing.html\n",
            "Please also refer to the documentation for alternative solver options:\n",
            "    https://scikit-learn.org/stable/modules/linear_model.html#logistic-regression\n",
            "  extra_warning_msg=_LOGISTIC_SOLVER_CONVERGENCE_MSG)\n",
            "/usr/local/lib/python3.7/dist-packages/sklearn/linear_model/_logistic.py:940: ConvergenceWarning: lbfgs failed to converge (status=1):\n",
            "STOP: TOTAL NO. of ITERATIONS REACHED LIMIT.\n",
            "\n",
            "Increase the number of iterations (max_iter) or scale the data as shown in:\n",
            "    https://scikit-learn.org/stable/modules/preprocessing.html\n",
            "Please also refer to the documentation for alternative solver options:\n",
            "    https://scikit-learn.org/stable/modules/linear_model.html#logistic-regression\n",
            "  extra_warning_msg=_LOGISTIC_SOLVER_CONVERGENCE_MSG)\n",
            "/usr/local/lib/python3.7/dist-packages/sklearn/linear_model/_logistic.py:940: ConvergenceWarning: lbfgs failed to converge (status=1):\n",
            "STOP: TOTAL NO. of ITERATIONS REACHED LIMIT.\n",
            "\n",
            "Increase the number of iterations (max_iter) or scale the data as shown in:\n",
            "    https://scikit-learn.org/stable/modules/preprocessing.html\n",
            "Please also refer to the documentation for alternative solver options:\n",
            "    https://scikit-learn.org/stable/modules/linear_model.html#logistic-regression\n",
            "  extra_warning_msg=_LOGISTIC_SOLVER_CONVERGENCE_MSG)\n",
            "/usr/local/lib/python3.7/dist-packages/sklearn/linear_model/_logistic.py:940: ConvergenceWarning: lbfgs failed to converge (status=1):\n",
            "STOP: TOTAL NO. of ITERATIONS REACHED LIMIT.\n",
            "\n",
            "Increase the number of iterations (max_iter) or scale the data as shown in:\n",
            "    https://scikit-learn.org/stable/modules/preprocessing.html\n",
            "Please also refer to the documentation for alternative solver options:\n",
            "    https://scikit-learn.org/stable/modules/linear_model.html#logistic-regression\n",
            "  extra_warning_msg=_LOGISTIC_SOLVER_CONVERGENCE_MSG)\n",
            "/usr/local/lib/python3.7/dist-packages/sklearn/linear_model/_logistic.py:940: ConvergenceWarning: lbfgs failed to converge (status=1):\n",
            "STOP: TOTAL NO. of ITERATIONS REACHED LIMIT.\n",
            "\n",
            "Increase the number of iterations (max_iter) or scale the data as shown in:\n",
            "    https://scikit-learn.org/stable/modules/preprocessing.html\n",
            "Please also refer to the documentation for alternative solver options:\n",
            "    https://scikit-learn.org/stable/modules/linear_model.html#logistic-regression\n",
            "  extra_warning_msg=_LOGISTIC_SOLVER_CONVERGENCE_MSG)\n",
            "/usr/local/lib/python3.7/dist-packages/sklearn/svm/_base.py:947: ConvergenceWarning: Liblinear failed to converge, increase the number of iterations.\n",
            "  \"the number of iterations.\", ConvergenceWarning)\n",
            "/usr/local/lib/python3.7/dist-packages/sklearn/svm/_base.py:947: ConvergenceWarning: Liblinear failed to converge, increase the number of iterations.\n",
            "  \"the number of iterations.\", ConvergenceWarning)\n",
            "/usr/local/lib/python3.7/dist-packages/sklearn/svm/_base.py:947: ConvergenceWarning: Liblinear failed to converge, increase the number of iterations.\n",
            "  \"the number of iterations.\", ConvergenceWarning)\n",
            "/usr/local/lib/python3.7/dist-packages/sklearn/svm/_base.py:947: ConvergenceWarning: Liblinear failed to converge, increase the number of iterations.\n",
            "  \"the number of iterations.\", ConvergenceWarning)\n",
            "/usr/local/lib/python3.7/dist-packages/sklearn/svm/_base.py:947: ConvergenceWarning: Liblinear failed to converge, increase the number of iterations.\n",
            "  \"the number of iterations.\", ConvergenceWarning)\n",
            "/usr/local/lib/python3.7/dist-packages/sklearn/svm/_base.py:947: ConvergenceWarning: Liblinear failed to converge, increase the number of iterations.\n",
            "  \"the number of iterations.\", ConvergenceWarning)\n",
            "/usr/local/lib/python3.7/dist-packages/sklearn/svm/_base.py:947: ConvergenceWarning: Liblinear failed to converge, increase the number of iterations.\n",
            "  \"the number of iterations.\", ConvergenceWarning)\n",
            "/usr/local/lib/python3.7/dist-packages/sklearn/svm/_base.py:947: ConvergenceWarning: Liblinear failed to converge, increase the number of iterations.\n",
            "  \"the number of iterations.\", ConvergenceWarning)\n",
            "/usr/local/lib/python3.7/dist-packages/sklearn/svm/_base.py:947: ConvergenceWarning: Liblinear failed to converge, increase the number of iterations.\n",
            "  \"the number of iterations.\", ConvergenceWarning)\n",
            "/usr/local/lib/python3.7/dist-packages/sklearn/svm/_base.py:947: ConvergenceWarning: Liblinear failed to converge, increase the number of iterations.\n",
            "  \"the number of iterations.\", ConvergenceWarning)\n",
            "/usr/local/lib/python3.7/dist-packages/sklearn/svm/_base.py:947: ConvergenceWarning: Liblinear failed to converge, increase the number of iterations.\n",
            "  \"the number of iterations.\", ConvergenceWarning)\n",
            "/usr/local/lib/python3.7/dist-packages/sklearn/svm/_base.py:947: ConvergenceWarning: Liblinear failed to converge, increase the number of iterations.\n",
            "  \"the number of iterations.\", ConvergenceWarning)\n",
            "/usr/local/lib/python3.7/dist-packages/sklearn/svm/_base.py:947: ConvergenceWarning: Liblinear failed to converge, increase the number of iterations.\n",
            "  \"the number of iterations.\", ConvergenceWarning)\n",
            "/usr/local/lib/python3.7/dist-packages/sklearn/svm/_base.py:947: ConvergenceWarning: Liblinear failed to converge, increase the number of iterations.\n",
            "  \"the number of iterations.\", ConvergenceWarning)\n",
            "/usr/local/lib/python3.7/dist-packages/sklearn/svm/_base.py:947: ConvergenceWarning: Liblinear failed to converge, increase the number of iterations.\n",
            "  \"the number of iterations.\", ConvergenceWarning)\n",
            "/usr/local/lib/python3.7/dist-packages/sklearn/svm/_base.py:947: ConvergenceWarning: Liblinear failed to converge, increase the number of iterations.\n",
            "  \"the number of iterations.\", ConvergenceWarning)\n"
          ]
        }
      ]
    },
    {
      "cell_type": "code",
      "metadata": {
        "colab": {
          "base_uri": "https://localhost:8080/"
        },
        "id": "ReAeaVahMI9H",
        "outputId": "3d78ef49-c29f-451a-eb32-b7768ed0e062"
      },
      "source": [
        "all_val_score_df\n",
        "# .describe()\n",
        "# .mean(axis=1).sort_values(ascending=False)"
      ],
      "execution_count": null,
      "outputs": [
        {
          "output_type": "execute_result",
          "data": {
            "text/html": [
              "<div>\n",
              "<style scoped>\n",
              "    .dataframe tbody tr th:only-of-type {\n",
              "        vertical-align: middle;\n",
              "    }\n",
              "\n",
              "    .dataframe tbody tr th {\n",
              "        vertical-align: top;\n",
              "    }\n",
              "\n",
              "    .dataframe thead th {\n",
              "        text-align: right;\n",
              "    }\n",
              "</style>\n",
              "<table border=\"1\" class=\"dataframe\">\n",
              "  <thead>\n",
              "    <tr style=\"text-align: right;\">\n",
              "      <th></th>\n",
              "      <th>0</th>\n",
              "      <th>1</th>\n",
              "      <th>2</th>\n",
              "      <th>3</th>\n",
              "      <th>4</th>\n",
              "      <th>5</th>\n",
              "      <th>6</th>\n",
              "      <th>7</th>\n",
              "    </tr>\n",
              "  </thead>\n",
              "  <tbody>\n",
              "    <tr>\n",
              "      <th>0</th>\n",
              "      <td>0.792140</td>\n",
              "      <td>0.786516</td>\n",
              "      <td>0.789333</td>\n",
              "      <td>0.780922</td>\n",
              "      <td>0.780951</td>\n",
              "      <td>0.785157</td>\n",
              "      <td>0.790781</td>\n",
              "      <td>0.766867</td>\n",
              "    </tr>\n",
              "    <tr>\n",
              "      <th>1</th>\n",
              "      <td>0.789333</td>\n",
              "      <td>0.790742</td>\n",
              "      <td>0.792140</td>\n",
              "      <td>0.787925</td>\n",
              "      <td>0.740274</td>\n",
              "      <td>0.790742</td>\n",
              "      <td>0.792130</td>\n",
              "      <td>0.723382</td>\n",
              "    </tr>\n",
              "    <tr>\n",
              "      <th>2</th>\n",
              "      <td>0.639043</td>\n",
              "      <td>0.627736</td>\n",
              "      <td>0.735822</td>\n",
              "      <td>0.740185</td>\n",
              "      <td>0.716360</td>\n",
              "      <td>0.748715</td>\n",
              "      <td>0.744381</td>\n",
              "      <td>0.654378</td>\n",
              "    </tr>\n",
              "    <tr>\n",
              "      <th>3</th>\n",
              "      <td>0.700827</td>\n",
              "      <td>0.693795</td>\n",
              "      <td>0.790811</td>\n",
              "      <td>0.786585</td>\n",
              "      <td>0.723274</td>\n",
              "      <td>0.797823</td>\n",
              "      <td>0.787994</td>\n",
              "      <td>0.716261</td>\n",
              "    </tr>\n",
              "    <tr>\n",
              "      <th>4</th>\n",
              "      <td>0.651699</td>\n",
              "      <td>0.761194</td>\n",
              "      <td>0.785137</td>\n",
              "      <td>0.789343</td>\n",
              "      <td>0.700926</td>\n",
              "      <td>0.785137</td>\n",
              "      <td>0.786536</td>\n",
              "      <td>0.693884</td>\n",
              "    </tr>\n",
              "    <tr>\n",
              "      <th>5</th>\n",
              "      <td>0.682596</td>\n",
              "      <td>0.682596</td>\n",
              "      <td>0.810391</td>\n",
              "      <td>0.787984</td>\n",
              "      <td>0.689717</td>\n",
              "      <td>0.806215</td>\n",
              "      <td>0.797794</td>\n",
              "      <td>0.689707</td>\n",
              "    </tr>\n",
              "    <tr>\n",
              "      <th>6</th>\n",
              "      <td>0.783699</td>\n",
              "      <td>0.785098</td>\n",
              "      <td>0.818802</td>\n",
              "      <td>0.792130</td>\n",
              "      <td>0.787925</td>\n",
              "      <td>0.811790</td>\n",
              "      <td>0.796307</td>\n",
              "      <td>0.783719</td>\n",
              "    </tr>\n",
              "    <tr>\n",
              "      <th>7</th>\n",
              "      <td>0.743071</td>\n",
              "      <td>0.744499</td>\n",
              "      <td>0.747296</td>\n",
              "      <td>0.740284</td>\n",
              "      <td>0.758436</td>\n",
              "      <td>0.738836</td>\n",
              "      <td>0.745898</td>\n",
              "      <td>0.723372</td>\n",
              "    </tr>\n",
              "    <tr>\n",
              "      <th>8</th>\n",
              "      <td>0.762691</td>\n",
              "      <td>0.747168</td>\n",
              "      <td>0.765478</td>\n",
              "      <td>0.762681</td>\n",
              "      <td>0.744420</td>\n",
              "      <td>0.741603</td>\n",
              "      <td>0.738777</td>\n",
              "      <td>0.737358</td>\n",
              "    </tr>\n",
              "    <tr>\n",
              "      <th>9</th>\n",
              "      <td>0.775318</td>\n",
              "      <td>0.779543</td>\n",
              "      <td>0.780951</td>\n",
              "      <td>0.779543</td>\n",
              "      <td>0.762661</td>\n",
              "      <td>0.776726</td>\n",
              "      <td>0.775318</td>\n",
              "      <td>0.766847</td>\n",
              "    </tr>\n",
              "    <tr>\n",
              "      <th>10</th>\n",
              "      <td>0.785187</td>\n",
              "      <td>0.776716</td>\n",
              "      <td>0.780922</td>\n",
              "      <td>0.789402</td>\n",
              "      <td>0.773860</td>\n",
              "      <td>0.790781</td>\n",
              "      <td>0.803418</td>\n",
              "      <td>0.782301</td>\n",
              "    </tr>\n",
              "    <tr>\n",
              "      <th>11</th>\n",
              "      <td>0.769694</td>\n",
              "      <td>0.765488</td>\n",
              "      <td>0.764099</td>\n",
              "      <td>0.761292</td>\n",
              "      <td>0.769684</td>\n",
              "      <td>0.765488</td>\n",
              "      <td>0.773919</td>\n",
              "      <td>0.778144</td>\n",
              "    </tr>\n",
              "    <tr>\n",
              "      <th>12</th>\n",
              "      <td>0.807584</td>\n",
              "      <td>0.801970</td>\n",
              "      <td>0.801970</td>\n",
              "      <td>0.801970</td>\n",
              "      <td>0.785137</td>\n",
              "      <td>0.806185</td>\n",
              "      <td>0.806185</td>\n",
              "      <td>0.776716</td>\n",
              "    </tr>\n",
              "    <tr>\n",
              "      <th>13</th>\n",
              "      <td>0.802009</td>\n",
              "      <td>0.797784</td>\n",
              "      <td>0.797804</td>\n",
              "      <td>0.790761</td>\n",
              "      <td>0.785187</td>\n",
              "      <td>0.803447</td>\n",
              "      <td>0.806235</td>\n",
              "      <td>0.775308</td>\n",
              "    </tr>\n",
              "  </tbody>\n",
              "</table>\n",
              "</div>"
            ],
            "text/plain": [
              "           0         1         2  ...         5         6         7\n",
              "0   0.792140  0.786516  0.789333  ...  0.785157  0.790781  0.766867\n",
              "1   0.789333  0.790742  0.792140  ...  0.790742  0.792130  0.723382\n",
              "2   0.639043  0.627736  0.735822  ...  0.748715  0.744381  0.654378\n",
              "3   0.700827  0.693795  0.790811  ...  0.797823  0.787994  0.716261\n",
              "4   0.651699  0.761194  0.785137  ...  0.785137  0.786536  0.693884\n",
              "5   0.682596  0.682596  0.810391  ...  0.806215  0.797794  0.689707\n",
              "6   0.783699  0.785098  0.818802  ...  0.811790  0.796307  0.783719\n",
              "7   0.743071  0.744499  0.747296  ...  0.738836  0.745898  0.723372\n",
              "8   0.762691  0.747168  0.765478  ...  0.741603  0.738777  0.737358\n",
              "9   0.775318  0.779543  0.780951  ...  0.776726  0.775318  0.766847\n",
              "10  0.785187  0.776716  0.780922  ...  0.790781  0.803418  0.782301\n",
              "11  0.769694  0.765488  0.764099  ...  0.765488  0.773919  0.778144\n",
              "12  0.807584  0.801970  0.801970  ...  0.806185  0.806185  0.776716\n",
              "13  0.802009  0.797784  0.797804  ...  0.803447  0.806235  0.775308\n",
              "\n",
              "[14 rows x 8 columns]"
            ]
          },
          "metadata": {},
          "execution_count": 50
        }
      ]
    },
    {
      "cell_type": "code",
      "metadata": {
        "colab": {
          "base_uri": "https://localhost:8080/"
        },
        "id": "T4HxDyI2ptA8",
        "outputId": "4b91e072-cb74-4e12-fdbc-d7381262556e"
      },
      "source": [
        "all_acc_df\n",
        "# .mean(axis=1).sort_values(ascending=False)"
      ],
      "execution_count": null,
      "outputs": [
        {
          "output_type": "execute_result",
          "data": {
            "text/html": [
              "<div>\n",
              "<style scoped>\n",
              "    .dataframe tbody tr th:only-of-type {\n",
              "        vertical-align: middle;\n",
              "    }\n",
              "\n",
              "    .dataframe tbody tr th {\n",
              "        vertical-align: top;\n",
              "    }\n",
              "\n",
              "    .dataframe thead th {\n",
              "        text-align: right;\n",
              "    }\n",
              "</style>\n",
              "<table border=\"1\" class=\"dataframe\">\n",
              "  <thead>\n",
              "    <tr style=\"text-align: right;\">\n",
              "      <th></th>\n",
              "      <th>0</th>\n",
              "      <th>1</th>\n",
              "      <th>2</th>\n",
              "      <th>3</th>\n",
              "      <th>4</th>\n",
              "      <th>5</th>\n",
              "      <th>6</th>\n",
              "      <th>7</th>\n",
              "    </tr>\n",
              "  </thead>\n",
              "  <tbody>\n",
              "    <tr>\n",
              "      <th>0</th>\n",
              "      <td>0.631285</td>\n",
              "      <td>0.804469</td>\n",
              "      <td>0.642458</td>\n",
              "      <td>0.670391</td>\n",
              "      <td>0.754190</td>\n",
              "      <td>0.631285</td>\n",
              "      <td>0.631285</td>\n",
              "      <td>0.631285</td>\n",
              "    </tr>\n",
              "    <tr>\n",
              "      <th>1</th>\n",
              "      <td>0.631285</td>\n",
              "      <td>0.810056</td>\n",
              "      <td>0.642458</td>\n",
              "      <td>0.653631</td>\n",
              "      <td>0.748603</td>\n",
              "      <td>0.631285</td>\n",
              "      <td>0.631285</td>\n",
              "      <td>0.631285</td>\n",
              "    </tr>\n",
              "    <tr>\n",
              "      <th>2</th>\n",
              "      <td>0.631285</td>\n",
              "      <td>0.631285</td>\n",
              "      <td>0.653631</td>\n",
              "      <td>0.653631</td>\n",
              "      <td>0.726257</td>\n",
              "      <td>0.631285</td>\n",
              "      <td>0.631285</td>\n",
              "      <td>0.631285</td>\n",
              "    </tr>\n",
              "    <tr>\n",
              "      <th>3</th>\n",
              "      <td>0.363128</td>\n",
              "      <td>0.681564</td>\n",
              "      <td>0.608939</td>\n",
              "      <td>0.642458</td>\n",
              "      <td>0.720670</td>\n",
              "      <td>0.631285</td>\n",
              "      <td>0.631285</td>\n",
              "      <td>0.391061</td>\n",
              "    </tr>\n",
              "    <tr>\n",
              "      <th>4</th>\n",
              "      <td>0.631285</td>\n",
              "      <td>0.620112</td>\n",
              "      <td>0.636872</td>\n",
              "      <td>0.659218</td>\n",
              "      <td>0.631285</td>\n",
              "      <td>0.631285</td>\n",
              "      <td>0.631285</td>\n",
              "      <td>0.631285</td>\n",
              "    </tr>\n",
              "    <tr>\n",
              "      <th>5</th>\n",
              "      <td>0.642458</td>\n",
              "      <td>0.653631</td>\n",
              "      <td>0.631285</td>\n",
              "      <td>0.631285</td>\n",
              "      <td>0.631285</td>\n",
              "      <td>0.631285</td>\n",
              "      <td>0.631285</td>\n",
              "      <td>0.631285</td>\n",
              "    </tr>\n",
              "    <tr>\n",
              "      <th>6</th>\n",
              "      <td>0.648045</td>\n",
              "      <td>0.798883</td>\n",
              "      <td>0.631285</td>\n",
              "      <td>0.631285</td>\n",
              "      <td>0.631285</td>\n",
              "      <td>0.631285</td>\n",
              "      <td>0.631285</td>\n",
              "      <td>0.368715</td>\n",
              "    </tr>\n",
              "    <tr>\n",
              "      <th>7</th>\n",
              "      <td>0.363128</td>\n",
              "      <td>0.793296</td>\n",
              "      <td>0.731844</td>\n",
              "      <td>0.731844</td>\n",
              "      <td>0.636872</td>\n",
              "      <td>0.631285</td>\n",
              "      <td>0.363128</td>\n",
              "      <td>0.748603</td>\n",
              "    </tr>\n",
              "    <tr>\n",
              "      <th>8</th>\n",
              "      <td>0.625698</td>\n",
              "      <td>0.759777</td>\n",
              "      <td>0.402235</td>\n",
              "      <td>0.737430</td>\n",
              "      <td>0.363128</td>\n",
              "      <td>0.385475</td>\n",
              "      <td>0.620112</td>\n",
              "      <td>0.391061</td>\n",
              "    </tr>\n",
              "    <tr>\n",
              "      <th>9</th>\n",
              "      <td>0.424581</td>\n",
              "      <td>0.826816</td>\n",
              "      <td>0.396648</td>\n",
              "      <td>0.391061</td>\n",
              "      <td>0.558659</td>\n",
              "      <td>0.597765</td>\n",
              "      <td>0.340782</td>\n",
              "      <td>0.368715</td>\n",
              "    </tr>\n",
              "    <tr>\n",
              "      <th>10</th>\n",
              "      <td>0.363128</td>\n",
              "      <td>0.793296</td>\n",
              "      <td>0.731844</td>\n",
              "      <td>0.631285</td>\n",
              "      <td>0.324022</td>\n",
              "      <td>0.631285</td>\n",
              "      <td>0.391061</td>\n",
              "      <td>0.407821</td>\n",
              "    </tr>\n",
              "    <tr>\n",
              "      <th>11</th>\n",
              "      <td>0.636872</td>\n",
              "      <td>0.804469</td>\n",
              "      <td>0.670391</td>\n",
              "      <td>0.720670</td>\n",
              "      <td>0.765363</td>\n",
              "      <td>0.631285</td>\n",
              "      <td>0.703911</td>\n",
              "      <td>0.441341</td>\n",
              "    </tr>\n",
              "    <tr>\n",
              "      <th>12</th>\n",
              "      <td>0.379888</td>\n",
              "      <td>0.854749</td>\n",
              "      <td>0.379888</td>\n",
              "      <td>0.312849</td>\n",
              "      <td>0.284916</td>\n",
              "      <td>0.620112</td>\n",
              "      <td>0.413408</td>\n",
              "      <td>0.396648</td>\n",
              "    </tr>\n",
              "    <tr>\n",
              "      <th>13</th>\n",
              "      <td>0.435754</td>\n",
              "      <td>0.821229</td>\n",
              "      <td>0.748603</td>\n",
              "      <td>0.396648</td>\n",
              "      <td>0.245810</td>\n",
              "      <td>0.631285</td>\n",
              "      <td>0.407821</td>\n",
              "      <td>0.418994</td>\n",
              "    </tr>\n",
              "  </tbody>\n",
              "</table>\n",
              "</div>"
            ],
            "text/plain": [
              "           0         1         2  ...         5         6         7\n",
              "0   0.631285  0.804469  0.642458  ...  0.631285  0.631285  0.631285\n",
              "1   0.631285  0.810056  0.642458  ...  0.631285  0.631285  0.631285\n",
              "2   0.631285  0.631285  0.653631  ...  0.631285  0.631285  0.631285\n",
              "3   0.363128  0.681564  0.608939  ...  0.631285  0.631285  0.391061\n",
              "4   0.631285  0.620112  0.636872  ...  0.631285  0.631285  0.631285\n",
              "5   0.642458  0.653631  0.631285  ...  0.631285  0.631285  0.631285\n",
              "6   0.648045  0.798883  0.631285  ...  0.631285  0.631285  0.368715\n",
              "7   0.363128  0.793296  0.731844  ...  0.631285  0.363128  0.748603\n",
              "8   0.625698  0.759777  0.402235  ...  0.385475  0.620112  0.391061\n",
              "9   0.424581  0.826816  0.396648  ...  0.597765  0.340782  0.368715\n",
              "10  0.363128  0.793296  0.731844  ...  0.631285  0.391061  0.407821\n",
              "11  0.636872  0.804469  0.670391  ...  0.631285  0.703911  0.441341\n",
              "12  0.379888  0.854749  0.379888  ...  0.620112  0.413408  0.396648\n",
              "13  0.435754  0.821229  0.748603  ...  0.631285  0.407821  0.418994\n",
              "\n",
              "[14 rows x 8 columns]"
            ]
          },
          "metadata": {},
          "execution_count": 51
        }
      ]
    },
    {
      "cell_type": "code",
      "metadata": {
        "colab": {
          "base_uri": "https://localhost:8080/"
        },
        "id": "zBSf_b3mSSBn",
        "outputId": "2f82f7d4-cbf9-40a1-9a6e-c7e1a845e394"
      },
      "source": [
        "all_val_score_df.mean(axis=0).sort_values(ascending=False)"
      ],
      "execution_count": null,
      "outputs": [
        {
          "output_type": "execute_result",
          "data": {
            "text/plain": [
              "2    0.782926\n",
              "5    0.782046\n",
              "6    0.781834\n",
              "3    0.777929\n",
              "1    0.752918\n",
              "4    0.751344\n",
              "0    0.748921\n",
              "7    0.740589\n",
              "dtype: float64"
            ]
          },
          "metadata": {},
          "execution_count": 52
        }
      ]
    },
    {
      "cell_type": "code",
      "metadata": {
        "colab": {
          "base_uri": "https://localhost:8080/"
        },
        "id": "NsYJ0QERpvWF",
        "outputId": "689bf330-fb33-4e28-be10-e7b376906db5"
      },
      "source": [
        "all_acc_df.mean(axis=0).sort_values(ascending=False)"
      ],
      "execution_count": null,
      "outputs": [
        {
          "output_type": "execute_result",
          "data": {
            "text/plain": [
              "1    0.760974\n",
              "5    0.610535\n",
              "2    0.607741\n",
              "3    0.604549\n",
              "4    0.573025\n",
              "6    0.547087\n",
              "0    0.529130\n",
              "7    0.506385\n",
              "dtype: float64"
            ]
          },
          "metadata": {},
          "execution_count": 53
        }
      ]
    },
    {
      "cell_type": "code",
      "metadata": {
        "colab": {
          "base_uri": "https://localhost:8080/"
        },
        "id": "r6g9dtSgiUoS",
        "outputId": "f3f20671-3197-40a1-db74-6284c8513439"
      },
      "source": [
        "model15 = xgboost.XGBClassifier()\n",
        "model15.fit(x_train, y_train)\n",
        "pred15=model15.predict(x_test)\n",
        "acc_15=metrics.accuracy_score(test_y, pred15)\n",
        "model16 = xgboost.XGBRFClassifier()\n",
        "model16.fit(x_train, y_train)\n",
        "pred16=model16.predict(x_test)\n",
        "acc_16=metrics.accuracy_score(test_y, pred16)\n",
        "acc_15, acc_16"
      ],
      "execution_count": null,
      "outputs": [
        {
          "output_type": "execute_result",
          "data": {
            "text/plain": [
              "(0.8379888268156425, 0.8044692737430168)"
            ]
          },
          "metadata": {},
          "execution_count": 54
        }
      ]
    },
    {
      "cell_type": "markdown",
      "metadata": {
        "id": "9K4MuATrHnAj"
      },
      "source": [
        "#Step 6: Final Model Selection\n",
        "## Model13: ensemble.GradientBoostingClassifier()\n",
        "\n",
        "## Model15: xgboost.XGBClassifier()\n"
      ]
    },
    {
      "cell_type": "code",
      "metadata": {
        "id": "zigVCh-tIEE0"
      },
      "source": [
        "m1 = ensemble.GradientBoostingClassifier()\n",
        "m2 = xgboost.XGBClassifier()"
      ],
      "execution_count": null,
      "outputs": []
    },
    {
      "cell_type": "code",
      "metadata": {
        "colab": {
          "base_uri": "https://localhost:8080/"
        },
        "id": "n9f6g84NrAT6",
        "outputId": "9f2b735d-1a54-4c6e-9546-ade52f6ce9e8"
      },
      "source": [
        "# x_train, x_test, y_train, y_test =  train_xo, test_xo, train_yo, test_yo\n",
        "# x_train, x_test, y_train, y_test =  train_xl, test_xl, train_yl, test_yl\n",
        "# x_train, x_test, y_train, y_test =  train_xos, test_xos, train_yos, test_yos\n",
        "# x_train, x_test, y_train, y_test =  train_xom, test_xom, train_yom, test_yom\n",
        "# x_train, x_test, y_train, y_test =  train_xon, test_xon, train_yon, test_yon\n",
        "# x_train, x_test, y_train, y_test =  train_xls, test_xls, train_yls, test_yls\n",
        "# x_train, x_test, y_train, y_test =  train_xlm, test_xlm, train_ylm, test_ylm\n",
        "x_train, x_test, y_train, y_test =  train_xln, test_xln, train_yln, test_yln\n",
        "m1.fit(x_train, y_train)\n",
        "p1=m1.predict(x_test)\n",
        "a1=metrics.accuracy_score(y_test, p1)\n",
        "m2.fit(x_train, y_train)\n",
        "p2=m2.predict(x_test)\n",
        "a2=metrics.accuracy_score(y_test, p2)\n",
        "print(metrics.classification_report(y_test, p1))\n",
        "print(metrics.classification_report(y_test, p2))\n",
        "a1, a2"
      ],
      "execution_count": null,
      "outputs": [
        {
          "output_type": "stream",
          "name": "stdout",
          "text": [
            "              precision    recall  f1-score   support\n",
            "\n",
            "           0       0.84      0.87      0.85       113\n",
            "           1       0.76      0.71      0.73        66\n",
            "\n",
            "    accuracy                           0.81       179\n",
            "   macro avg       0.80      0.79      0.79       179\n",
            "weighted avg       0.81      0.81      0.81       179\n",
            "\n",
            "              precision    recall  f1-score   support\n",
            "\n",
            "           0       0.85      0.88      0.86       113\n",
            "           1       0.77      0.73      0.75        66\n",
            "\n",
            "    accuracy                           0.82       179\n",
            "   macro avg       0.81      0.80      0.81       179\n",
            "weighted avg       0.82      0.82      0.82       179\n",
            "\n"
          ]
        },
        {
          "output_type": "execute_result",
          "data": {
            "text/plain": [
              "(0.8100558659217877, 0.8212290502793296)"
            ]
          },
          "metadata": {},
          "execution_count": 56
        }
      ]
    },
    {
      "cell_type": "markdown",
      "metadata": {
        "id": "AE0YzAD1P-68"
      },
      "source": [
        "#Tunnig the final data and final model"
      ]
    },
    {
      "cell_type": "code",
      "metadata": {
        "colab": {
          "base_uri": "https://localhost:8080/"
        },
        "id": "1AoOE648P-Ua",
        "outputId": "10b1adaa-fcee-4528-adc6-a80e61b8db61"
      },
      "source": [
        "x_train, x_test, y_train, y_test = model_selection.train_test_split(one_x, Y, test_size=0.01)\n",
        "train_xo, test_xo, train_yo, test_yo\n",
        "model = ensemble.GradientBoostingClassifier(learning_rate=0.1, n_estimators=100)\n",
        "model.fit(x_train, y_train)\n",
        "pred=model.predict(x_test)\n",
        "a1=metrics.accuracy_score(y_test, pred)\n",
        "print(metrics.classification_report(y_test, pred))\n",
        "a1"
      ],
      "execution_count": null,
      "outputs": [
        {
          "output_type": "stream",
          "name": "stdout",
          "text": [
            "              precision    recall  f1-score   support\n",
            "\n",
            "           0       0.83      1.00      0.91         5\n",
            "           1       1.00      0.75      0.86         4\n",
            "\n",
            "    accuracy                           0.89         9\n",
            "   macro avg       0.92      0.88      0.88         9\n",
            "weighted avg       0.91      0.89      0.89         9\n",
            "\n"
          ]
        },
        {
          "output_type": "execute_result",
          "data": {
            "text/plain": [
              "0.8888888888888888"
            ]
          },
          "metadata": {},
          "execution_count": 57
        }
      ]
    },
    {
      "cell_type": "code",
      "metadata": {
        "id": "6fZJ0NSLOP2t"
      },
      "source": [
        "# print(one_x.shape[0]/100)\n",
        "# params = {'learning_rate': [0.1, 0.2 , 0.3, 0.4, 0.5, 0.6, 0.001, 0.0001, 0.01, 0.000001],\n",
        "#           'scoring' : ['accuracy', 'precision','recall'],\n",
        "#           \"max_features\":[\"log2\",\"sqrt\"],\n",
        "#           'n_estimators': [5,10,15,20, 30, 40, 50, 60, 70, 80, 90, 100]}\n",
        "# res=model_selection.GridSearchCV(model, param_grid=params, scoring='accuracy')\n",
        "# res.score()\n",
        "# res.fit(x_train, y_train)\n",
        "# # res.best_params\n",
        "# # dpp.model_parameters_chooser(x_train, y_train, model, reg=False, hints=False, score_choice=0, sf_choice=1)\n",
        "param_grid = { \n",
        "    'n_estimators': [20,30, 40, 50, 60, 70, 80, 90, 100],\n",
        "    'learning_rate': [0.1, 0.2 , 0.3, 0.4, 0.5, 0.6, 0.001, 0.0001, 0.01, 0.000001],\n",
        "    # 'scoring' : ['accuracy', 'precision','recall'],\n",
        "    \"max_features\":[\"log2\",\"sqrt\"],\n",
        "    # 'max_features': ['auto', 'sqrt', 'log2'],\n",
        "    'max_depth' : [6, 7, 8, 9, 10, 11,12, 13, 14, 15, 16, 17, 18, 19,20, 21, 22,23,24, 25,26,27,28,29,30, 50],\n",
        "}\n",
        "                \n",
        "# , refit = True, verbose = 3, n_jobs=-1, cv= 5                \n",
        "grid = model_selection.GridSearchCV(estimator=model, param_grid=param_grid)\n",
        "grid.fit(x_train, y_train)\n",
        "grid.best_params_"
      ],
      "execution_count": null,
      "outputs": []
    },
    {
      "cell_type": "code",
      "metadata": {
        "id": "i0z7R-tuQmcE"
      },
      "source": [
        "best_score=0\n",
        "for i in range(10000):\n",
        "  clf = ensemble.GradientBoostingClassifier(learning_rate=0.1, n_estimators=np.random.randint(100, 1001))\n",
        "  clf.fit(x_train, y_train)\n",
        "  predd = clf.predict(x_test)\n",
        "  score=metrics.accuracy_score(y_test, predd)\n",
        "  if score > best_score:\n",
        "    best_score=score\n",
        "    model = clf\n",
        "    print(best_score)"
      ],
      "execution_count": null,
      "outputs": []
    },
    {
      "cell_type": "code",
      "metadata": {
        "id": "9tjUmFEmVgmt",
        "colab": {
          "base_uri": "https://localhost:8080/"
        },
        "outputId": "e98e152c-6828-45c4-94ae-c985a7eb9831"
      },
      "source": [
        "import pickle\n",
        "\n",
        "# pickle.dump(model, open(\"/content/drive/MyDrive/Colab Notebooks/Heoku_projects/h3_best_model.sav\", \"wb\"))\n",
        "loadm = pickle.load(open(\"/content/drive/MyDrive/Colab Notebooks/Heoku_projects/h3_best_model.sav\", \"rb\"))\n",
        "loadm.fit(x_train, y_train)\n",
        "loadpred = loadm.predict(x_test)\n",
        "metrics.accuracy_score(y_test, loadpred)\n",
        "# list(zip(loadpred, y_test))\n",
        "# pickle.dump(loadm, open(\"/content/drive/MyDrive/Colab Notebooks/Heoku_projects/h2_all_best_model.sav\", \"wb\"))"
      ],
      "execution_count": null,
      "outputs": [
        {
          "output_type": "execute_result",
          "data": {
            "text/plain": [
              "0.8888888888888888"
            ]
          },
          "metadata": {},
          "execution_count": 60
        }
      ]
    },
    {
      "cell_type": "code",
      "metadata": {
        "id": "6ZBiR80V_xmN"
      },
      "source": [
        "loadm.fit(le_x, Y)\n",
        "le = preprocessing.LabelEncoder()\n",
        "for l in test_data.columns[1:]:\n",
        "  test_data[l] = le.fit_transform(test_data[l])"
      ],
      "execution_count": null,
      "outputs": []
    },
    {
      "cell_type": "code",
      "metadata": {
        "colab": {
          "base_uri": "https://localhost:8080/"
        },
        "id": "e7HeF6TtARAR",
        "outputId": "d1914c49-e3bd-40a4-f668-3f963b70c89b"
      },
      "source": [
        "p = loadm.predict(test_data[test_data.columns[1:]])\n",
        "metrics.accuracy_score(sub_data.Survived, p)"
      ],
      "execution_count": null,
      "outputs": [
        {
          "output_type": "execute_result",
          "data": {
            "text/plain": [
              "0.9114832535885168"
            ]
          },
          "metadata": {},
          "execution_count": 89
        }
      ]
    },
    {
      "cell_type": "code",
      "metadata": {
        "colab": {
          "base_uri": "https://localhost:8080/"
        },
        "id": "Ue6eQAojCNRU",
        "outputId": "0c4b65c5-9985-4861-8096-2b059fd59084"
      },
      "source": [
        "# inputs = [Pclass, Sex, Age, SibSp, Parch, Fare, Embarked]\n",
        "# inputs = [Pclass=2, Sex=1 Age=23, SibSp=0, Parch=1, Fare=23, Embarked=1]\n",
        "  # \"\"\"\n",
        "  # Sex ['female'=0,    'male'=1]\n",
        "  # Embarked ['C'=0,  'Q'=1,    'S'=2]\n",
        "  # \"\"\"\n",
        "inputs = np.array([2, 1, 23,43,4, 4, 1]).reshape(-1, 1)\n",
        "loadm.predict(inputs.T)"
      ],
      "execution_count": null,
      "outputs": [
        {
          "output_type": "execute_result",
          "data": {
            "text/plain": [
              "array([0])"
            ]
          },
          "metadata": {},
          "execution_count": 152
        }
      ]
    },
    {
      "cell_type": "code",
      "metadata": {
        "id": "mgce2Q8LTux0"
      },
      "source": [
        "test = test_data[test_data.columns[1:]].values\n",
        "train = le_x.astype(np.int64).values\n",
        "all_data_x = np.concatenate([train, test])\n",
        "all_data_y = np.concatenate([Y, sub_data.Survived.values])\n",
        "\n",
        "loadm.fit(all_data_x, all_data_y)\n",
        "\n",
        "# pickle.dump(loadm, open(\"/content/drive/MyDrive/Colab Notebooks/Heoku_projects/h3_best_model.sav\", \"wb\"))"
      ],
      "execution_count": null,
      "outputs": []
    }
  ]
}